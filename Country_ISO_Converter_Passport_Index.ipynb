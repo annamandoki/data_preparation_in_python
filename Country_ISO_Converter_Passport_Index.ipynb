{
 "cells": [
  {
   "cell_type": "markdown",
   "id": "0becbf4c-0155-4d35-a7cc-358e550fad14",
   "metadata": {},
   "source": [
    "# Country, continent and ISO code convert - Global Passport Index"
   ]
  },
  {
   "cell_type": "markdown",
   "id": "173a052c-dcc8-4a6d-a530-d86ee4e34859",
   "metadata": {},
   "source": [
    "## About\n",
    "- **Data**: [MakeoverMonday 2023/W28: The Henley Passport Index](https://data.world/makeovermonday/2023w28) + links to country flags from [Worldometer](https://www.worldometers.info/geography/flags-of-the-world/)\n",
    "- **Purpose**: get ISO-3 codes and continent from country name using country_converter"
   ]
  },
  {
   "cell_type": "markdown",
   "id": "7e8f959a-434a-40ce-9fb4-2bdc933a5bc3",
   "metadata": {},
   "source": [
    "## Import libraries and read .xslx file"
   ]
  },
  {
   "cell_type": "code",
   "execution_count": 1,
   "id": "ac7e7965-6741-43cb-b3d6-c5aaf51fde3f",
   "metadata": {},
   "outputs": [],
   "source": [
    "import pandas as pd\n",
    "import numpy as np\n",
    "import country_converter as coco"
   ]
  },
  {
   "cell_type": "code",
   "execution_count": 2,
   "id": "546c6782-79f2-4ab8-8ee8-aa3ce9bd6490",
   "metadata": {},
   "outputs": [],
   "source": [
    "#read Excel file and create data frame\n",
    "passport_df = pd.read_excel(\"MM_Global_Passport_Rankings_1.xlsx\")"
   ]
  },
  {
   "cell_type": "code",
   "execution_count": 3,
   "id": "af5713fb-9a7d-413f-8025-332f3d66f059",
   "metadata": {},
   "outputs": [
    {
     "name": "stdout",
     "output_type": "stream",
     "text": [
      "<class 'pandas.core.frame.DataFrame'>\n",
      "RangeIndex: 398 entries, 0 to 397\n",
      "Data columns (total 4 columns):\n",
      " #   Column                  Non-Null Count  Dtype \n",
      "---  ------                  --------------  ----- \n",
      " 0   Year                    398 non-null    int64 \n",
      " 1   Country                 398 non-null    object\n",
      " 2   Visa-free Destinations  398 non-null    int64 \n",
      " 3   Flag URL                398 non-null    object\n",
      "dtypes: int64(2), object(2)\n",
      "memory usage: 12.6+ KB\n"
     ]
    }
   ],
   "source": [
    "# check info\n",
    "passport_df.info()"
   ]
  },
  {
   "cell_type": "markdown",
   "id": "d52f86ec-3529-4e90-8568-05d733677b9e",
   "metadata": {},
   "source": [
    "## Convert country names to ISO and continent"
   ]
  },
  {
   "cell_type": "code",
   "execution_count": 4,
   "id": "dac11f2d-b2ab-4c1a-b2e1-423978539df2",
   "metadata": {},
   "outputs": [],
   "source": [
    "converter = coco.CountryConverter()"
   ]
  },
  {
   "cell_type": "code",
   "execution_count": 5,
   "id": "f324e423-5e68-4bd2-a4e7-d4e9722d23ac",
   "metadata": {},
   "outputs": [],
   "source": [
    "# get country names from column\n",
    "country_names = passport_df.Country"
   ]
  },
  {
   "cell_type": "code",
   "execution_count": 6,
   "id": "839a99d3-4263-4377-9507-91f2d63eea12",
   "metadata": {},
   "outputs": [
    {
     "data": {
      "text/plain": [
       "0            Japan\n",
       "1        Singapore\n",
       "2      South Korea\n",
       "3          Germany\n",
       "4            Spain\n",
       "          ...     \n",
       "393          Yemen\n",
       "394       Pakistan\n",
       "395           Iraq\n",
       "396          Syria\n",
       "397    Afghanistan\n",
       "Name: Country, Length: 398, dtype: object"
      ]
     },
     "execution_count": 6,
     "metadata": {},
     "output_type": "execute_result"
    }
   ],
   "source": [
    "# chekc country names\n",
    "country_names"
   ]
  },
  {
   "cell_type": "code",
   "execution_count": 7,
   "id": "f2150b37-096b-4c86-b769-4bbef42781ba",
   "metadata": {},
   "outputs": [
    {
     "name": "stderr",
     "output_type": "stream",
     "text": [
      "Brunei not found in name_short\n",
      "Saint Kitts and Nevis not found in name_short\n",
      "Vatican City not found in name_short\n",
      "Saint Vincent and the Grenadines not found in name_short\n",
      "Saint Lucia not found in name_short\n",
      "Micronesia not found in name_short\n",
      "Turkey not found in name_short\n",
      "East Timor not found in name_short\n",
      "Cape Verde not found in name_short\n",
      "Kyrgyzstan not found in name_short\n",
      "São Tomé and Príncipe not found in name_short\n",
      "Ivory Coast not found in name_short\n",
      "Congo not found in name_short\n",
      "Brunei not found in name_short\n",
      "Saint Kitts and Nevis not found in name_short\n",
      "Vatican City not found in name_short\n",
      "Saint Vincent and the Grenadines not found in name_short\n",
      "Saint Lucia not found in name_short\n",
      "Micronesia not found in name_short\n",
      "Turkey not found in name_short\n",
      "East Timor not found in name_short\n",
      "Cape Verde not found in name_short\n",
      "Kyrgyzstan not found in name_short\n",
      "São Tomé and Príncipe not found in name_short\n",
      "Ivory Coast not found in name_short\n",
      "Congo not found in name_short\n"
     ]
    },
    {
     "data": {
      "text/html": [
       "<div>\n",
       "<style scoped>\n",
       "    .dataframe tbody tr th:only-of-type {\n",
       "        vertical-align: middle;\n",
       "    }\n",
       "\n",
       "    .dataframe tbody tr th {\n",
       "        vertical-align: top;\n",
       "    }\n",
       "\n",
       "    .dataframe thead th {\n",
       "        text-align: right;\n",
       "    }\n",
       "</style>\n",
       "<table border=\"1\" class=\"dataframe\">\n",
       "  <thead>\n",
       "    <tr style=\"text-align: right;\">\n",
       "      <th></th>\n",
       "      <th>Year</th>\n",
       "      <th>Country</th>\n",
       "      <th>Visa-free Destinations</th>\n",
       "      <th>Flag URL</th>\n",
       "      <th>ISO-3</th>\n",
       "    </tr>\n",
       "  </thead>\n",
       "  <tbody>\n",
       "    <tr>\n",
       "      <th>0</th>\n",
       "      <td>2022</td>\n",
       "      <td>Japan</td>\n",
       "      <td>193</td>\n",
       "      <td>https://www.worldometers.info/img/flags/ja-fla...</td>\n",
       "      <td>JPN</td>\n",
       "    </tr>\n",
       "    <tr>\n",
       "      <th>1</th>\n",
       "      <td>2022</td>\n",
       "      <td>Singapore</td>\n",
       "      <td>192</td>\n",
       "      <td>https://www.worldometers.info/img/flags/sn-fla...</td>\n",
       "      <td>SGP</td>\n",
       "    </tr>\n",
       "    <tr>\n",
       "      <th>2</th>\n",
       "      <td>2022</td>\n",
       "      <td>South Korea</td>\n",
       "      <td>192</td>\n",
       "      <td>https://www.worldometers.info/img/flags/ks-fla...</td>\n",
       "      <td>KOR</td>\n",
       "    </tr>\n",
       "    <tr>\n",
       "      <th>3</th>\n",
       "      <td>2022</td>\n",
       "      <td>Germany</td>\n",
       "      <td>190</td>\n",
       "      <td>https://www.worldometers.info/img/flags/gm-fla...</td>\n",
       "      <td>DEU</td>\n",
       "    </tr>\n",
       "    <tr>\n",
       "      <th>4</th>\n",
       "      <td>2022</td>\n",
       "      <td>Spain</td>\n",
       "      <td>190</td>\n",
       "      <td>https://www.worldometers.info/img/flags/sp-fla...</td>\n",
       "      <td>ESP</td>\n",
       "    </tr>\n",
       "  </tbody>\n",
       "</table>\n",
       "</div>"
      ],
      "text/plain": [
       "   Year      Country  Visa-free Destinations  \\\n",
       "0  2022        Japan                     193   \n",
       "1  2022    Singapore                     192   \n",
       "2  2022  South Korea                     192   \n",
       "3  2022      Germany                     190   \n",
       "4  2022        Spain                     190   \n",
       "\n",
       "                                            Flag URL ISO-3  \n",
       "0  https://www.worldometers.info/img/flags/ja-fla...   JPN  \n",
       "1  https://www.worldometers.info/img/flags/sn-fla...   SGP  \n",
       "2  https://www.worldometers.info/img/flags/ks-fla...   KOR  \n",
       "3  https://www.worldometers.info/img/flags/gm-fla...   DEU  \n",
       "4  https://www.worldometers.info/img/flags/sp-fla...   ESP  "
      ]
     },
     "execution_count": 7,
     "metadata": {},
     "output_type": "execute_result"
    }
   ],
   "source": [
    "# generate ISO-3 codes from country names and adds to new column\n",
    "passport_df[\"ISO-3\"] = converter.convert(names = country_names, src = \"name_short\", to = \"ISO3\")\n",
    "passport_df.head()"
   ]
  },
  {
   "cell_type": "markdown",
   "id": "8826a488-3f27-4599-8f63-862a1cf8b97d",
   "metadata": {},
   "source": [
    "- Note: due to name differences, converter doesn't recognize some of the countries.\n",
    "- Workaround options: \n",
    "    - change names in original file to coco standards\n",
    "    - add codes manually to the dataframe based on condition using .loc\n",
    "    - add codes manually to the final file"
   ]
  },
  {
   "cell_type": "code",
   "execution_count": 8,
   "id": "abba6785-dedb-40f5-9362-33f4f329f284",
   "metadata": {},
   "outputs": [
    {
     "name": "stderr",
     "output_type": "stream",
     "text": [
      "Brunei not found in name_short\n",
      "Saint Kitts and Nevis not found in name_short\n",
      "Vatican City not found in name_short\n",
      "Saint Vincent and the Grenadines not found in name_short\n",
      "Saint Lucia not found in name_short\n",
      "Micronesia not found in name_short\n",
      "Turkey not found in name_short\n",
      "East Timor not found in name_short\n",
      "Cape Verde not found in name_short\n",
      "Kyrgyzstan not found in name_short\n",
      "São Tomé and Príncipe not found in name_short\n",
      "Ivory Coast not found in name_short\n",
      "Congo not found in name_short\n",
      "Brunei not found in name_short\n",
      "Saint Kitts and Nevis not found in name_short\n",
      "Vatican City not found in name_short\n",
      "Saint Vincent and the Grenadines not found in name_short\n",
      "Saint Lucia not found in name_short\n",
      "Micronesia not found in name_short\n",
      "Turkey not found in name_short\n",
      "East Timor not found in name_short\n",
      "Cape Verde not found in name_short\n",
      "Kyrgyzstan not found in name_short\n",
      "São Tomé and Príncipe not found in name_short\n",
      "Ivory Coast not found in name_short\n",
      "Congo not found in name_short\n"
     ]
    },
    {
     "data": {
      "text/html": [
       "<div>\n",
       "<style scoped>\n",
       "    .dataframe tbody tr th:only-of-type {\n",
       "        vertical-align: middle;\n",
       "    }\n",
       "\n",
       "    .dataframe tbody tr th {\n",
       "        vertical-align: top;\n",
       "    }\n",
       "\n",
       "    .dataframe thead th {\n",
       "        text-align: right;\n",
       "    }\n",
       "</style>\n",
       "<table border=\"1\" class=\"dataframe\">\n",
       "  <thead>\n",
       "    <tr style=\"text-align: right;\">\n",
       "      <th></th>\n",
       "      <th>Year</th>\n",
       "      <th>Country</th>\n",
       "      <th>Visa-free Destinations</th>\n",
       "      <th>Flag URL</th>\n",
       "      <th>ISO-3</th>\n",
       "      <th>Continent</th>\n",
       "    </tr>\n",
       "  </thead>\n",
       "  <tbody>\n",
       "    <tr>\n",
       "      <th>0</th>\n",
       "      <td>2022</td>\n",
       "      <td>Japan</td>\n",
       "      <td>193</td>\n",
       "      <td>https://www.worldometers.info/img/flags/ja-fla...</td>\n",
       "      <td>JPN</td>\n",
       "      <td>Asia</td>\n",
       "    </tr>\n",
       "    <tr>\n",
       "      <th>1</th>\n",
       "      <td>2022</td>\n",
       "      <td>Singapore</td>\n",
       "      <td>192</td>\n",
       "      <td>https://www.worldometers.info/img/flags/sn-fla...</td>\n",
       "      <td>SGP</td>\n",
       "      <td>Asia</td>\n",
       "    </tr>\n",
       "    <tr>\n",
       "      <th>2</th>\n",
       "      <td>2022</td>\n",
       "      <td>South Korea</td>\n",
       "      <td>192</td>\n",
       "      <td>https://www.worldometers.info/img/flags/ks-fla...</td>\n",
       "      <td>KOR</td>\n",
       "      <td>Asia</td>\n",
       "    </tr>\n",
       "    <tr>\n",
       "      <th>3</th>\n",
       "      <td>2022</td>\n",
       "      <td>Germany</td>\n",
       "      <td>190</td>\n",
       "      <td>https://www.worldometers.info/img/flags/gm-fla...</td>\n",
       "      <td>DEU</td>\n",
       "      <td>Europe</td>\n",
       "    </tr>\n",
       "    <tr>\n",
       "      <th>4</th>\n",
       "      <td>2022</td>\n",
       "      <td>Spain</td>\n",
       "      <td>190</td>\n",
       "      <td>https://www.worldometers.info/img/flags/sp-fla...</td>\n",
       "      <td>ESP</td>\n",
       "      <td>Europe</td>\n",
       "    </tr>\n",
       "  </tbody>\n",
       "</table>\n",
       "</div>"
      ],
      "text/plain": [
       "   Year      Country  Visa-free Destinations  \\\n",
       "0  2022        Japan                     193   \n",
       "1  2022    Singapore                     192   \n",
       "2  2022  South Korea                     192   \n",
       "3  2022      Germany                     190   \n",
       "4  2022        Spain                     190   \n",
       "\n",
       "                                            Flag URL ISO-3 Continent  \n",
       "0  https://www.worldometers.info/img/flags/ja-fla...   JPN      Asia  \n",
       "1  https://www.worldometers.info/img/flags/sn-fla...   SGP      Asia  \n",
       "2  https://www.worldometers.info/img/flags/ks-fla...   KOR      Asia  \n",
       "3  https://www.worldometers.info/img/flags/gm-fla...   DEU    Europe  \n",
       "4  https://www.worldometers.info/img/flags/sp-fla...   ESP    Europe  "
      ]
     },
     "execution_count": 8,
     "metadata": {},
     "output_type": "execute_result"
    }
   ],
   "source": [
    "# generate continent from country names and add in new column\n",
    "# same error expected as above, due to name discrepancies\n",
    "passport_df[\"Continent\"] = converter.convert(names = country_names, src = \"name_short\", to = \"continent\")\n",
    "passport_df.head()"
   ]
  },
  {
   "cell_type": "code",
   "execution_count": 9,
   "id": "fcf09588-6d43-478c-b92a-6297caf569d9",
   "metadata": {},
   "outputs": [
    {
     "data": {
      "text/html": [
       "<div>\n",
       "<style scoped>\n",
       "    .dataframe tbody tr th:only-of-type {\n",
       "        vertical-align: middle;\n",
       "    }\n",
       "\n",
       "    .dataframe tbody tr th {\n",
       "        vertical-align: top;\n",
       "    }\n",
       "\n",
       "    .dataframe thead th {\n",
       "        text-align: right;\n",
       "    }\n",
       "</style>\n",
       "<table border=\"1\" class=\"dataframe\">\n",
       "  <thead>\n",
       "    <tr style=\"text-align: right;\">\n",
       "      <th></th>\n",
       "      <th>Year</th>\n",
       "      <th>Country</th>\n",
       "      <th>Visa-free Destinations</th>\n",
       "      <th>Flag URL</th>\n",
       "      <th>ISO-3</th>\n",
       "      <th>Continent</th>\n",
       "    </tr>\n",
       "  </thead>\n",
       "  <tbody>\n",
       "    <tr>\n",
       "      <th>48</th>\n",
       "      <td>2022</td>\n",
       "      <td>Brunei</td>\n",
       "      <td>166</td>\n",
       "      <td>https://www.worldometers.info/img/flags/bx-fla...</td>\n",
       "      <td>not found</td>\n",
       "      <td>not found</td>\n",
       "    </tr>\n",
       "    <tr>\n",
       "      <th>247</th>\n",
       "      <td>2023</td>\n",
       "      <td>Brunei</td>\n",
       "      <td>168</td>\n",
       "      <td>https://www.worldometers.info/img/flags/bx-fla...</td>\n",
       "      <td>not found</td>\n",
       "      <td>not found</td>\n",
       "    </tr>\n",
       "  </tbody>\n",
       "</table>\n",
       "</div>"
      ],
      "text/plain": [
       "     Year Country  Visa-free Destinations  \\\n",
       "48   2022  Brunei                     166   \n",
       "247  2023  Brunei                     168   \n",
       "\n",
       "                                              Flag URL      ISO-3  Continent  \n",
       "48   https://www.worldometers.info/img/flags/bx-fla...  not found  not found  \n",
       "247  https://www.worldometers.info/img/flags/bx-fla...  not found  not found  "
      ]
     },
     "execution_count": 9,
     "metadata": {},
     "output_type": "execute_result"
    }
   ],
   "source": [
    "# see an example where name not found\n",
    "passport_df.loc[passport_df.Country == \"Brunei\"]"
   ]
  },
  {
   "cell_type": "markdown",
   "id": "c159cf0f-1b28-44e8-a449-4a932c1a99c6",
   "metadata": {},
   "source": [
    "Not the best solution, but works. I will add the missing ISO-3 codes and continent manually to the Excel file."
   ]
  },
  {
   "cell_type": "markdown",
   "id": "8073794f-8d96-419c-af99-17ad7531b949",
   "metadata": {},
   "source": [
    "## Write Excel"
   ]
  },
  {
   "cell_type": "code",
   "execution_count": 10,
   "id": "433eb6f8-f413-49f1-8a02-1a05d7ebe167",
   "metadata": {},
   "outputs": [],
   "source": [
    "#passport_df.to_excel(\"MM_Global_Passport_Rankings.xlsx\", index = False)"
   ]
  },
  {
   "cell_type": "code",
   "execution_count": null,
   "id": "438933fd-b96f-4a9c-9abb-ccbcf6ddb511",
   "metadata": {},
   "outputs": [],
   "source": []
  }
 ],
 "metadata": {
  "kernelspec": {
   "display_name": "Python 3 (ipykernel)",
   "language": "python",
   "name": "python3"
  },
  "language_info": {
   "codemirror_mode": {
    "name": "ipython",
    "version": 3
   },
   "file_extension": ".py",
   "mimetype": "text/x-python",
   "name": "python",
   "nbconvert_exporter": "python",
   "pygments_lexer": "ipython3",
   "version": "3.9.7"
  }
 },
 "nbformat": 4,
 "nbformat_minor": 5
}
