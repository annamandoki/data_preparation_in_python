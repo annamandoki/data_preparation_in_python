{
 "cells": [
  {
   "cell_type": "markdown",
   "id": "defa26c8-9990-4f69-acfb-fa6e034cd323",
   "metadata": {},
   "source": [
    "# Convert ISO3 codes to country names - Unemployment rates in the EU"
   ]
  },
  {
   "cell_type": "markdown",
   "id": "04423c84-0040-4d9b-9e95-2f44abee1f42",
   "metadata": {},
   "source": [
    "## Import libraries, insall and import `country_converter`\n",
    "\n",
    "Useful links:\n",
    "https://notebook.community/konstantinstadler/country_converter/doc/country_converter_examples"
   ]
  },
  {
   "cell_type": "code",
   "execution_count": 1,
   "id": "78cb05ce-75d4-4f38-aea4-3e23625a8d24",
   "metadata": {},
   "outputs": [],
   "source": [
    "import pandas as pd\n",
    "import numpy as np\n",
    "import country_converter as coco"
   ]
  },
  {
   "cell_type": "code",
   "execution_count": 2,
   "id": "b57dc510-1a51-42e0-bf61-aef664dede19",
   "metadata": {},
   "outputs": [],
   "source": [
    "# read csv and create data frame\n",
    "unemp_df = pd.read_csv(\"Unemployment_EU.csv\")"
   ]
  },
  {
   "cell_type": "code",
   "execution_count": 3,
   "id": "6dba7f5c-ff23-49ed-8856-de57b796af93",
   "metadata": {},
   "outputs": [
    {
     "data": {
      "text/html": [
       "<div>\n",
       "<style scoped>\n",
       "    .dataframe tbody tr th:only-of-type {\n",
       "        vertical-align: middle;\n",
       "    }\n",
       "\n",
       "    .dataframe tbody tr th {\n",
       "        vertical-align: top;\n",
       "    }\n",
       "\n",
       "    .dataframe thead th {\n",
       "        text-align: right;\n",
       "    }\n",
       "</style>\n",
       "<table border=\"1\" class=\"dataframe\">\n",
       "  <thead>\n",
       "    <tr style=\"text-align: right;\">\n",
       "      <th></th>\n",
       "      <th>LOCATION</th>\n",
       "      <th>INDICATOR</th>\n",
       "      <th>SUBJECT</th>\n",
       "      <th>MEASURE</th>\n",
       "      <th>FREQUENCY</th>\n",
       "      <th>TIME</th>\n",
       "      <th>Value</th>\n",
       "      <th>Flag Codes</th>\n",
       "    </tr>\n",
       "  </thead>\n",
       "  <tbody>\n",
       "    <tr>\n",
       "      <th>0</th>\n",
       "      <td>AUT</td>\n",
       "      <td>HUR</td>\n",
       "      <td>TOT</td>\n",
       "      <td>PC_LF</td>\n",
       "      <td>M</td>\n",
       "      <td>2002-11</td>\n",
       "      <td>4.4</td>\n",
       "      <td>NaN</td>\n",
       "    </tr>\n",
       "    <tr>\n",
       "      <th>1</th>\n",
       "      <td>AUT</td>\n",
       "      <td>HUR</td>\n",
       "      <td>TOT</td>\n",
       "      <td>PC_LF</td>\n",
       "      <td>M</td>\n",
       "      <td>2002-12</td>\n",
       "      <td>4.5</td>\n",
       "      <td>NaN</td>\n",
       "    </tr>\n",
       "    <tr>\n",
       "      <th>2</th>\n",
       "      <td>AUT</td>\n",
       "      <td>HUR</td>\n",
       "      <td>TOT</td>\n",
       "      <td>PC_LF</td>\n",
       "      <td>M</td>\n",
       "      <td>2003-01</td>\n",
       "      <td>4.5</td>\n",
       "      <td>NaN</td>\n",
       "    </tr>\n",
       "    <tr>\n",
       "      <th>3</th>\n",
       "      <td>AUT</td>\n",
       "      <td>HUR</td>\n",
       "      <td>TOT</td>\n",
       "      <td>PC_LF</td>\n",
       "      <td>M</td>\n",
       "      <td>2003-02</td>\n",
       "      <td>4.5</td>\n",
       "      <td>NaN</td>\n",
       "    </tr>\n",
       "    <tr>\n",
       "      <th>4</th>\n",
       "      <td>AUT</td>\n",
       "      <td>HUR</td>\n",
       "      <td>TOT</td>\n",
       "      <td>PC_LF</td>\n",
       "      <td>M</td>\n",
       "      <td>2003-03</td>\n",
       "      <td>4.6</td>\n",
       "      <td>NaN</td>\n",
       "    </tr>\n",
       "    <tr>\n",
       "      <th>5</th>\n",
       "      <td>AUT</td>\n",
       "      <td>HUR</td>\n",
       "      <td>TOT</td>\n",
       "      <td>PC_LF</td>\n",
       "      <td>M</td>\n",
       "      <td>2003-04</td>\n",
       "      <td>4.7</td>\n",
       "      <td>NaN</td>\n",
       "    </tr>\n",
       "    <tr>\n",
       "      <th>6</th>\n",
       "      <td>AUT</td>\n",
       "      <td>HUR</td>\n",
       "      <td>TOT</td>\n",
       "      <td>PC_LF</td>\n",
       "      <td>M</td>\n",
       "      <td>2003-05</td>\n",
       "      <td>4.8</td>\n",
       "      <td>NaN</td>\n",
       "    </tr>\n",
       "    <tr>\n",
       "      <th>7</th>\n",
       "      <td>AUT</td>\n",
       "      <td>HUR</td>\n",
       "      <td>TOT</td>\n",
       "      <td>PC_LF</td>\n",
       "      <td>M</td>\n",
       "      <td>2003-06</td>\n",
       "      <td>4.9</td>\n",
       "      <td>NaN</td>\n",
       "    </tr>\n",
       "    <tr>\n",
       "      <th>8</th>\n",
       "      <td>AUT</td>\n",
       "      <td>HUR</td>\n",
       "      <td>TOT</td>\n",
       "      <td>PC_LF</td>\n",
       "      <td>M</td>\n",
       "      <td>2003-07</td>\n",
       "      <td>4.8</td>\n",
       "      <td>NaN</td>\n",
       "    </tr>\n",
       "    <tr>\n",
       "      <th>9</th>\n",
       "      <td>AUT</td>\n",
       "      <td>HUR</td>\n",
       "      <td>TOT</td>\n",
       "      <td>PC_LF</td>\n",
       "      <td>M</td>\n",
       "      <td>2003-08</td>\n",
       "      <td>4.8</td>\n",
       "      <td>NaN</td>\n",
       "    </tr>\n",
       "  </tbody>\n",
       "</table>\n",
       "</div>"
      ],
      "text/plain": [
       "  LOCATION INDICATOR SUBJECT MEASURE FREQUENCY     TIME  Value Flag Codes\n",
       "0      AUT       HUR     TOT   PC_LF         M  2002-11    4.4        NaN\n",
       "1      AUT       HUR     TOT   PC_LF         M  2002-12    4.5        NaN\n",
       "2      AUT       HUR     TOT   PC_LF         M  2003-01    4.5        NaN\n",
       "3      AUT       HUR     TOT   PC_LF         M  2003-02    4.5        NaN\n",
       "4      AUT       HUR     TOT   PC_LF         M  2003-03    4.6        NaN\n",
       "5      AUT       HUR     TOT   PC_LF         M  2003-04    4.7        NaN\n",
       "6      AUT       HUR     TOT   PC_LF         M  2003-05    4.8        NaN\n",
       "7      AUT       HUR     TOT   PC_LF         M  2003-06    4.9        NaN\n",
       "8      AUT       HUR     TOT   PC_LF         M  2003-07    4.8        NaN\n",
       "9      AUT       HUR     TOT   PC_LF         M  2003-08    4.8        NaN"
      ]
     },
     "execution_count": 3,
     "metadata": {},
     "output_type": "execute_result"
    }
   ],
   "source": [
    "unemp_df.head(10)"
   ]
  },
  {
   "cell_type": "code",
   "execution_count": 4,
   "id": "aaa9a618-77a3-44d7-8613-f84a74d67aa8",
   "metadata": {},
   "outputs": [
    {
     "name": "stdout",
     "output_type": "stream",
     "text": [
      "<class 'pandas.core.frame.DataFrame'>\n",
      "RangeIndex: 15972 entries, 0 to 15971\n",
      "Data columns (total 8 columns):\n",
      " #   Column      Non-Null Count  Dtype  \n",
      "---  ------      --------------  -----  \n",
      " 0   LOCATION    15972 non-null  object \n",
      " 1   INDICATOR   15972 non-null  object \n",
      " 2   SUBJECT     15972 non-null  object \n",
      " 3   MEASURE     15972 non-null  object \n",
      " 4   FREQUENCY   15972 non-null  object \n",
      " 5   TIME        15972 non-null  object \n",
      " 6   Value       15972 non-null  float64\n",
      " 7   Flag Codes  36 non-null     object \n",
      "dtypes: float64(1), object(7)\n",
      "memory usage: 998.4+ KB\n"
     ]
    }
   ],
   "source": [
    "unemp_df.info()"
   ]
  },
  {
   "cell_type": "markdown",
   "id": "5572beb6-fd53-44b3-a3d0-261c471872b2",
   "metadata": {},
   "source": [
    "## Convert ISO3 to Country names"
   ]
  },
  {
   "cell_type": "code",
   "execution_count": 5,
   "id": "aa20657f-edb1-449f-afe1-07a3aef97ffa",
   "metadata": {},
   "outputs": [],
   "source": [
    "converter = coco.CountryConverter()"
   ]
  },
  {
   "cell_type": "code",
   "execution_count": 6,
   "id": "c0787be5-e82e-4fe6-8317-72910e7f0fba",
   "metadata": {},
   "outputs": [],
   "source": [
    "iso3_codes = unemp_df[\"LOCATION\"]"
   ]
  },
  {
   "cell_type": "code",
   "execution_count": 7,
   "id": "e46d0efa-ffd3-4cb7-a2c7-41d470db1c6d",
   "metadata": {},
   "outputs": [
    {
     "data": {
      "text/plain": [
       "0        AUT\n",
       "1        AUT\n",
       "2        AUT\n",
       "3        AUT\n",
       "4        AUT\n",
       "        ... \n",
       "15967    SVN\n",
       "15968    SVN\n",
       "15969    SVN\n",
       "15970    SVN\n",
       "15971    SVN\n",
       "Name: LOCATION, Length: 15972, dtype: object"
      ]
     },
     "execution_count": 7,
     "metadata": {},
     "output_type": "execute_result"
    }
   ],
   "source": [
    "iso3_codes"
   ]
  },
  {
   "cell_type": "code",
   "execution_count": 8,
   "id": "501c2ddc-c1cc-4152-9853-c1c4ba6146a7",
   "metadata": {},
   "outputs": [],
   "source": [
    "# get country names and add as new column\n",
    "unemp_df[\"Country_name\"] = converter.convert(names = iso3_codes, src = \"ISO3\", to = \"name_short\")"
   ]
  },
  {
   "cell_type": "code",
   "execution_count": 9,
   "id": "17f2d188-dad3-4768-988e-a0e0835a47fc",
   "metadata": {},
   "outputs": [
    {
     "data": {
      "text/html": [
       "<div>\n",
       "<style scoped>\n",
       "    .dataframe tbody tr th:only-of-type {\n",
       "        vertical-align: middle;\n",
       "    }\n",
       "\n",
       "    .dataframe tbody tr th {\n",
       "        vertical-align: top;\n",
       "    }\n",
       "\n",
       "    .dataframe thead th {\n",
       "        text-align: right;\n",
       "    }\n",
       "</style>\n",
       "<table border=\"1\" class=\"dataframe\">\n",
       "  <thead>\n",
       "    <tr style=\"text-align: right;\">\n",
       "      <th></th>\n",
       "      <th>LOCATION</th>\n",
       "      <th>INDICATOR</th>\n",
       "      <th>SUBJECT</th>\n",
       "      <th>MEASURE</th>\n",
       "      <th>FREQUENCY</th>\n",
       "      <th>TIME</th>\n",
       "      <th>Value</th>\n",
       "      <th>Flag Codes</th>\n",
       "      <th>Country_name</th>\n",
       "    </tr>\n",
       "  </thead>\n",
       "  <tbody>\n",
       "    <tr>\n",
       "      <th>0</th>\n",
       "      <td>AUT</td>\n",
       "      <td>HUR</td>\n",
       "      <td>TOT</td>\n",
       "      <td>PC_LF</td>\n",
       "      <td>M</td>\n",
       "      <td>2002-11</td>\n",
       "      <td>4.4</td>\n",
       "      <td>NaN</td>\n",
       "      <td>Austria</td>\n",
       "    </tr>\n",
       "    <tr>\n",
       "      <th>1</th>\n",
       "      <td>AUT</td>\n",
       "      <td>HUR</td>\n",
       "      <td>TOT</td>\n",
       "      <td>PC_LF</td>\n",
       "      <td>M</td>\n",
       "      <td>2002-12</td>\n",
       "      <td>4.5</td>\n",
       "      <td>NaN</td>\n",
       "      <td>Austria</td>\n",
       "    </tr>\n",
       "    <tr>\n",
       "      <th>2</th>\n",
       "      <td>AUT</td>\n",
       "      <td>HUR</td>\n",
       "      <td>TOT</td>\n",
       "      <td>PC_LF</td>\n",
       "      <td>M</td>\n",
       "      <td>2003-01</td>\n",
       "      <td>4.5</td>\n",
       "      <td>NaN</td>\n",
       "      <td>Austria</td>\n",
       "    </tr>\n",
       "    <tr>\n",
       "      <th>3</th>\n",
       "      <td>AUT</td>\n",
       "      <td>HUR</td>\n",
       "      <td>TOT</td>\n",
       "      <td>PC_LF</td>\n",
       "      <td>M</td>\n",
       "      <td>2003-02</td>\n",
       "      <td>4.5</td>\n",
       "      <td>NaN</td>\n",
       "      <td>Austria</td>\n",
       "    </tr>\n",
       "    <tr>\n",
       "      <th>4</th>\n",
       "      <td>AUT</td>\n",
       "      <td>HUR</td>\n",
       "      <td>TOT</td>\n",
       "      <td>PC_LF</td>\n",
       "      <td>M</td>\n",
       "      <td>2003-03</td>\n",
       "      <td>4.6</td>\n",
       "      <td>NaN</td>\n",
       "      <td>Austria</td>\n",
       "    </tr>\n",
       "    <tr>\n",
       "      <th>5</th>\n",
       "      <td>AUT</td>\n",
       "      <td>HUR</td>\n",
       "      <td>TOT</td>\n",
       "      <td>PC_LF</td>\n",
       "      <td>M</td>\n",
       "      <td>2003-04</td>\n",
       "      <td>4.7</td>\n",
       "      <td>NaN</td>\n",
       "      <td>Austria</td>\n",
       "    </tr>\n",
       "    <tr>\n",
       "      <th>6</th>\n",
       "      <td>AUT</td>\n",
       "      <td>HUR</td>\n",
       "      <td>TOT</td>\n",
       "      <td>PC_LF</td>\n",
       "      <td>M</td>\n",
       "      <td>2003-05</td>\n",
       "      <td>4.8</td>\n",
       "      <td>NaN</td>\n",
       "      <td>Austria</td>\n",
       "    </tr>\n",
       "    <tr>\n",
       "      <th>7</th>\n",
       "      <td>AUT</td>\n",
       "      <td>HUR</td>\n",
       "      <td>TOT</td>\n",
       "      <td>PC_LF</td>\n",
       "      <td>M</td>\n",
       "      <td>2003-06</td>\n",
       "      <td>4.9</td>\n",
       "      <td>NaN</td>\n",
       "      <td>Austria</td>\n",
       "    </tr>\n",
       "    <tr>\n",
       "      <th>8</th>\n",
       "      <td>AUT</td>\n",
       "      <td>HUR</td>\n",
       "      <td>TOT</td>\n",
       "      <td>PC_LF</td>\n",
       "      <td>M</td>\n",
       "      <td>2003-07</td>\n",
       "      <td>4.8</td>\n",
       "      <td>NaN</td>\n",
       "      <td>Austria</td>\n",
       "    </tr>\n",
       "    <tr>\n",
       "      <th>9</th>\n",
       "      <td>AUT</td>\n",
       "      <td>HUR</td>\n",
       "      <td>TOT</td>\n",
       "      <td>PC_LF</td>\n",
       "      <td>M</td>\n",
       "      <td>2003-08</td>\n",
       "      <td>4.8</td>\n",
       "      <td>NaN</td>\n",
       "      <td>Austria</td>\n",
       "    </tr>\n",
       "  </tbody>\n",
       "</table>\n",
       "</div>"
      ],
      "text/plain": [
       "  LOCATION INDICATOR SUBJECT MEASURE FREQUENCY     TIME  Value Flag Codes  \\\n",
       "0      AUT       HUR     TOT   PC_LF         M  2002-11    4.4        NaN   \n",
       "1      AUT       HUR     TOT   PC_LF         M  2002-12    4.5        NaN   \n",
       "2      AUT       HUR     TOT   PC_LF         M  2003-01    4.5        NaN   \n",
       "3      AUT       HUR     TOT   PC_LF         M  2003-02    4.5        NaN   \n",
       "4      AUT       HUR     TOT   PC_LF         M  2003-03    4.6        NaN   \n",
       "5      AUT       HUR     TOT   PC_LF         M  2003-04    4.7        NaN   \n",
       "6      AUT       HUR     TOT   PC_LF         M  2003-05    4.8        NaN   \n",
       "7      AUT       HUR     TOT   PC_LF         M  2003-06    4.9        NaN   \n",
       "8      AUT       HUR     TOT   PC_LF         M  2003-07    4.8        NaN   \n",
       "9      AUT       HUR     TOT   PC_LF         M  2003-08    4.8        NaN   \n",
       "\n",
       "  Country_name  \n",
       "0      Austria  \n",
       "1      Austria  \n",
       "2      Austria  \n",
       "3      Austria  \n",
       "4      Austria  \n",
       "5      Austria  \n",
       "6      Austria  \n",
       "7      Austria  \n",
       "8      Austria  \n",
       "9      Austria  "
      ]
     },
     "execution_count": 9,
     "metadata": {},
     "output_type": "execute_result"
    }
   ],
   "source": [
    "unemp_df.head(10)"
   ]
  },
  {
   "cell_type": "markdown",
   "id": "47582ee8-2633-4ece-a4c7-c0d4ab2cc5c4",
   "metadata": {},
   "source": [
    "## Data transformation and new data frame"
   ]
  },
  {
   "cell_type": "markdown",
   "id": "6cc21f48-f00c-4e86-a6d1-914ab34627bf",
   "metadata": {},
   "source": [
    "### Select columns to create new data frame"
   ]
  },
  {
   "cell_type": "code",
   "execution_count": 10,
   "id": "d79eba12-4e67-42ec-86d5-30a2800b65ee",
   "metadata": {},
   "outputs": [],
   "source": [
    "# create new data frame with selected columns\n",
    "unemp_final = unemp_df[[\"Country_name\", \"SUBJECT\",\"TIME\", \"Value\"]]"
   ]
  },
  {
   "cell_type": "code",
   "execution_count": 11,
   "id": "b04e428e-ec6c-44aa-bef1-38a67a2126f3",
   "metadata": {},
   "outputs": [
    {
     "data": {
      "text/html": [
       "<div>\n",
       "<style scoped>\n",
       "    .dataframe tbody tr th:only-of-type {\n",
       "        vertical-align: middle;\n",
       "    }\n",
       "\n",
       "    .dataframe tbody tr th {\n",
       "        vertical-align: top;\n",
       "    }\n",
       "\n",
       "    .dataframe thead th {\n",
       "        text-align: right;\n",
       "    }\n",
       "</style>\n",
       "<table border=\"1\" class=\"dataframe\">\n",
       "  <thead>\n",
       "    <tr style=\"text-align: right;\">\n",
       "      <th></th>\n",
       "      <th>Country_name</th>\n",
       "      <th>SUBJECT</th>\n",
       "      <th>TIME</th>\n",
       "      <th>Value</th>\n",
       "    </tr>\n",
       "  </thead>\n",
       "  <tbody>\n",
       "    <tr>\n",
       "      <th>0</th>\n",
       "      <td>Austria</td>\n",
       "      <td>TOT</td>\n",
       "      <td>2002-11</td>\n",
       "      <td>4.4</td>\n",
       "    </tr>\n",
       "    <tr>\n",
       "      <th>1</th>\n",
       "      <td>Austria</td>\n",
       "      <td>TOT</td>\n",
       "      <td>2002-12</td>\n",
       "      <td>4.5</td>\n",
       "    </tr>\n",
       "    <tr>\n",
       "      <th>2</th>\n",
       "      <td>Austria</td>\n",
       "      <td>TOT</td>\n",
       "      <td>2003-01</td>\n",
       "      <td>4.5</td>\n",
       "    </tr>\n",
       "    <tr>\n",
       "      <th>3</th>\n",
       "      <td>Austria</td>\n",
       "      <td>TOT</td>\n",
       "      <td>2003-02</td>\n",
       "      <td>4.5</td>\n",
       "    </tr>\n",
       "    <tr>\n",
       "      <th>4</th>\n",
       "      <td>Austria</td>\n",
       "      <td>TOT</td>\n",
       "      <td>2003-03</td>\n",
       "      <td>4.6</td>\n",
       "    </tr>\n",
       "    <tr>\n",
       "      <th>5</th>\n",
       "      <td>Austria</td>\n",
       "      <td>TOT</td>\n",
       "      <td>2003-04</td>\n",
       "      <td>4.7</td>\n",
       "    </tr>\n",
       "    <tr>\n",
       "      <th>6</th>\n",
       "      <td>Austria</td>\n",
       "      <td>TOT</td>\n",
       "      <td>2003-05</td>\n",
       "      <td>4.8</td>\n",
       "    </tr>\n",
       "    <tr>\n",
       "      <th>7</th>\n",
       "      <td>Austria</td>\n",
       "      <td>TOT</td>\n",
       "      <td>2003-06</td>\n",
       "      <td>4.9</td>\n",
       "    </tr>\n",
       "    <tr>\n",
       "      <th>8</th>\n",
       "      <td>Austria</td>\n",
       "      <td>TOT</td>\n",
       "      <td>2003-07</td>\n",
       "      <td>4.8</td>\n",
       "    </tr>\n",
       "    <tr>\n",
       "      <th>9</th>\n",
       "      <td>Austria</td>\n",
       "      <td>TOT</td>\n",
       "      <td>2003-08</td>\n",
       "      <td>4.8</td>\n",
       "    </tr>\n",
       "  </tbody>\n",
       "</table>\n",
       "</div>"
      ],
      "text/plain": [
       "  Country_name SUBJECT     TIME  Value\n",
       "0      Austria     TOT  2002-11    4.4\n",
       "1      Austria     TOT  2002-12    4.5\n",
       "2      Austria     TOT  2003-01    4.5\n",
       "3      Austria     TOT  2003-02    4.5\n",
       "4      Austria     TOT  2003-03    4.6\n",
       "5      Austria     TOT  2003-04    4.7\n",
       "6      Austria     TOT  2003-05    4.8\n",
       "7      Austria     TOT  2003-06    4.9\n",
       "8      Austria     TOT  2003-07    4.8\n",
       "9      Austria     TOT  2003-08    4.8"
      ]
     },
     "execution_count": 11,
     "metadata": {},
     "output_type": "execute_result"
    }
   ],
   "source": [
    "unemp_final.head(10)"
   ]
  },
  {
   "cell_type": "markdown",
   "id": "dcdc2604-fb96-4b2d-98a7-2d3661e08487",
   "metadata": {},
   "source": [
    "### Rename columns"
   ]
  },
  {
   "cell_type": "code",
   "execution_count": 12,
   "id": "e3dd56a9-ba11-4ff9-8f8e-02014b573e81",
   "metadata": {},
   "outputs": [],
   "source": [
    "# rename columns\n",
    "unemp_final = unemp_final.rename(columns = {\"Country_name\": \"Country\", \"SUBJECT\":\"Subject\", \"TIME\":\"Date\", \"Value\":\"Percentage\"})"
   ]
  },
  {
   "cell_type": "code",
   "execution_count": 13,
   "id": "89eb8238-0bde-4a11-b181-45cf7f25854f",
   "metadata": {},
   "outputs": [
    {
     "data": {
      "text/html": [
       "<div>\n",
       "<style scoped>\n",
       "    .dataframe tbody tr th:only-of-type {\n",
       "        vertical-align: middle;\n",
       "    }\n",
       "\n",
       "    .dataframe tbody tr th {\n",
       "        vertical-align: top;\n",
       "    }\n",
       "\n",
       "    .dataframe thead th {\n",
       "        text-align: right;\n",
       "    }\n",
       "</style>\n",
       "<table border=\"1\" class=\"dataframe\">\n",
       "  <thead>\n",
       "    <tr style=\"text-align: right;\">\n",
       "      <th></th>\n",
       "      <th>Country</th>\n",
       "      <th>Subject</th>\n",
       "      <th>Date</th>\n",
       "      <th>Percentage</th>\n",
       "    </tr>\n",
       "  </thead>\n",
       "  <tbody>\n",
       "    <tr>\n",
       "      <th>0</th>\n",
       "      <td>Austria</td>\n",
       "      <td>TOT</td>\n",
       "      <td>2002-11</td>\n",
       "      <td>4.4</td>\n",
       "    </tr>\n",
       "    <tr>\n",
       "      <th>1</th>\n",
       "      <td>Austria</td>\n",
       "      <td>TOT</td>\n",
       "      <td>2002-12</td>\n",
       "      <td>4.5</td>\n",
       "    </tr>\n",
       "    <tr>\n",
       "      <th>2</th>\n",
       "      <td>Austria</td>\n",
       "      <td>TOT</td>\n",
       "      <td>2003-01</td>\n",
       "      <td>4.5</td>\n",
       "    </tr>\n",
       "    <tr>\n",
       "      <th>3</th>\n",
       "      <td>Austria</td>\n",
       "      <td>TOT</td>\n",
       "      <td>2003-02</td>\n",
       "      <td>4.5</td>\n",
       "    </tr>\n",
       "    <tr>\n",
       "      <th>4</th>\n",
       "      <td>Austria</td>\n",
       "      <td>TOT</td>\n",
       "      <td>2003-03</td>\n",
       "      <td>4.6</td>\n",
       "    </tr>\n",
       "  </tbody>\n",
       "</table>\n",
       "</div>"
      ],
      "text/plain": [
       "   Country Subject     Date  Percentage\n",
       "0  Austria     TOT  2002-11         4.4\n",
       "1  Austria     TOT  2002-12         4.5\n",
       "2  Austria     TOT  2003-01         4.5\n",
       "3  Austria     TOT  2003-02         4.5\n",
       "4  Austria     TOT  2003-03         4.6"
      ]
     },
     "execution_count": 13,
     "metadata": {},
     "output_type": "execute_result"
    }
   ],
   "source": [
    "unemp_final.head()"
   ]
  },
  {
   "cell_type": "markdown",
   "id": "a0a5c866-7abf-4614-b144-ecf146662e0c",
   "metadata": {},
   "source": [
    "### Check and replace values in Subject column"
   ]
  },
  {
   "cell_type": "code",
   "execution_count": 14,
   "id": "065303cd-2db8-4e3d-be6e-9ca25f725a14",
   "metadata": {},
   "outputs": [
    {
     "data": {
      "text/plain": [
       "array(['TOT', 'MEN', 'WOMEN'], dtype=object)"
      ]
     },
     "execution_count": 14,
     "metadata": {},
     "output_type": "execute_result"
    }
   ],
   "source": [
    "# see unique values in a column\n",
    "unemp_final[\"Subject\"].unique()"
   ]
  },
  {
   "cell_type": "code",
   "execution_count": 15,
   "id": "9138ba7a-a48d-4db8-851f-ece56a28f13b",
   "metadata": {},
   "outputs": [],
   "source": [
    "# replace values\n",
    "unemp_final[\"Subject\"] = unemp_final[\"Subject\"].replace([\"TOT\",\"MEN\",\"WOMEN\"],[\"Total\",\"Men\",\"Women\"])"
   ]
  },
  {
   "cell_type": "code",
   "execution_count": 16,
   "id": "d0a7c73d-73db-4bc9-a4dd-2cb2349aa6df",
   "metadata": {},
   "outputs": [
    {
     "data": {
      "text/plain": [
       "array(['Total', 'Men', 'Women'], dtype=object)"
      ]
     },
     "execution_count": 16,
     "metadata": {},
     "output_type": "execute_result"
    }
   ],
   "source": [
    "unemp_final[\"Subject\"].unique()"
   ]
  },
  {
   "cell_type": "markdown",
   "id": "73e518f4-7903-4b9f-9a6d-1f0758c9b2f2",
   "metadata": {},
   "source": [
    "### Convert to datetime"
   ]
  },
  {
   "cell_type": "code",
   "execution_count": 17,
   "id": "69edfa52-7dc5-43ae-a06a-c4742c293255",
   "metadata": {},
   "outputs": [],
   "source": [
    "# convert to datetime\n",
    "unemp_final[\"Date\"] = pd.to_datetime(unemp_final[\"Date\"])"
   ]
  },
  {
   "cell_type": "code",
   "execution_count": 18,
   "id": "168865e4-bb9b-4d23-ae1a-5359ebc7667a",
   "metadata": {},
   "outputs": [
    {
     "name": "stdout",
     "output_type": "stream",
     "text": [
      "<class 'pandas.core.frame.DataFrame'>\n",
      "RangeIndex: 15972 entries, 0 to 15971\n",
      "Data columns (total 4 columns):\n",
      " #   Column      Non-Null Count  Dtype         \n",
      "---  ------      --------------  -----         \n",
      " 0   Country     15972 non-null  object        \n",
      " 1   Subject     15972 non-null  object        \n",
      " 2   Date        15972 non-null  datetime64[ns]\n",
      " 3   Percentage  15972 non-null  float64       \n",
      "dtypes: datetime64[ns](1), float64(1), object(2)\n",
      "memory usage: 499.2+ KB\n"
     ]
    }
   ],
   "source": [
    "unemp_final.info()"
   ]
  },
  {
   "cell_type": "code",
   "execution_count": 19,
   "id": "1bd30e64-d42b-40b0-8f16-7d499d7177a9",
   "metadata": {},
   "outputs": [
    {
     "data": {
      "text/html": [
       "<div>\n",
       "<style scoped>\n",
       "    .dataframe tbody tr th:only-of-type {\n",
       "        vertical-align: middle;\n",
       "    }\n",
       "\n",
       "    .dataframe tbody tr th {\n",
       "        vertical-align: top;\n",
       "    }\n",
       "\n",
       "    .dataframe thead th {\n",
       "        text-align: right;\n",
       "    }\n",
       "</style>\n",
       "<table border=\"1\" class=\"dataframe\">\n",
       "  <thead>\n",
       "    <tr style=\"text-align: right;\">\n",
       "      <th></th>\n",
       "      <th>Country</th>\n",
       "      <th>Subject</th>\n",
       "      <th>Date</th>\n",
       "      <th>Percentage</th>\n",
       "    </tr>\n",
       "  </thead>\n",
       "  <tbody>\n",
       "    <tr>\n",
       "      <th>0</th>\n",
       "      <td>Austria</td>\n",
       "      <td>Total</td>\n",
       "      <td>2002-11-01</td>\n",
       "      <td>4.4</td>\n",
       "    </tr>\n",
       "    <tr>\n",
       "      <th>1</th>\n",
       "      <td>Austria</td>\n",
       "      <td>Total</td>\n",
       "      <td>2002-12-01</td>\n",
       "      <td>4.5</td>\n",
       "    </tr>\n",
       "    <tr>\n",
       "      <th>2</th>\n",
       "      <td>Austria</td>\n",
       "      <td>Total</td>\n",
       "      <td>2003-01-01</td>\n",
       "      <td>4.5</td>\n",
       "    </tr>\n",
       "    <tr>\n",
       "      <th>3</th>\n",
       "      <td>Austria</td>\n",
       "      <td>Total</td>\n",
       "      <td>2003-02-01</td>\n",
       "      <td>4.5</td>\n",
       "    </tr>\n",
       "    <tr>\n",
       "      <th>4</th>\n",
       "      <td>Austria</td>\n",
       "      <td>Total</td>\n",
       "      <td>2003-03-01</td>\n",
       "      <td>4.6</td>\n",
       "    </tr>\n",
       "    <tr>\n",
       "      <th>5</th>\n",
       "      <td>Austria</td>\n",
       "      <td>Total</td>\n",
       "      <td>2003-04-01</td>\n",
       "      <td>4.7</td>\n",
       "    </tr>\n",
       "    <tr>\n",
       "      <th>6</th>\n",
       "      <td>Austria</td>\n",
       "      <td>Total</td>\n",
       "      <td>2003-05-01</td>\n",
       "      <td>4.8</td>\n",
       "    </tr>\n",
       "    <tr>\n",
       "      <th>7</th>\n",
       "      <td>Austria</td>\n",
       "      <td>Total</td>\n",
       "      <td>2003-06-01</td>\n",
       "      <td>4.9</td>\n",
       "    </tr>\n",
       "    <tr>\n",
       "      <th>8</th>\n",
       "      <td>Austria</td>\n",
       "      <td>Total</td>\n",
       "      <td>2003-07-01</td>\n",
       "      <td>4.8</td>\n",
       "    </tr>\n",
       "    <tr>\n",
       "      <th>9</th>\n",
       "      <td>Austria</td>\n",
       "      <td>Total</td>\n",
       "      <td>2003-08-01</td>\n",
       "      <td>4.8</td>\n",
       "    </tr>\n",
       "  </tbody>\n",
       "</table>\n",
       "</div>"
      ],
      "text/plain": [
       "   Country Subject       Date  Percentage\n",
       "0  Austria   Total 2002-11-01         4.4\n",
       "1  Austria   Total 2002-12-01         4.5\n",
       "2  Austria   Total 2003-01-01         4.5\n",
       "3  Austria   Total 2003-02-01         4.5\n",
       "4  Austria   Total 2003-03-01         4.6\n",
       "5  Austria   Total 2003-04-01         4.7\n",
       "6  Austria   Total 2003-05-01         4.8\n",
       "7  Austria   Total 2003-06-01         4.9\n",
       "8  Austria   Total 2003-07-01         4.8\n",
       "9  Austria   Total 2003-08-01         4.8"
      ]
     },
     "execution_count": 19,
     "metadata": {},
     "output_type": "execute_result"
    }
   ],
   "source": [
    "unemp_final.head(10)"
   ]
  },
  {
   "cell_type": "markdown",
   "id": "014e16da-d009-4d3e-8a5e-16c2478e7529",
   "metadata": {},
   "source": [
    "## Write final data frame to csv"
   ]
  },
  {
   "cell_type": "code",
   "execution_count": 20,
   "id": "2612aeff-50b5-4f9d-b6d2-dde44f3d48d8",
   "metadata": {},
   "outputs": [],
   "source": [
    "#unemp_final.to_csv(\"Unemployment_EU_final.csv\", index = False)"
   ]
  },
  {
   "cell_type": "code",
   "execution_count": null,
   "id": "4228f74f-64eb-418c-9816-163d8626aa9b",
   "metadata": {},
   "outputs": [],
   "source": []
  }
 ],
 "metadata": {
  "kernelspec": {
   "display_name": "Python 3 (ipykernel)",
   "language": "python",
   "name": "python3"
  },
  "language_info": {
   "codemirror_mode": {
    "name": "ipython",
    "version": 3
   },
   "file_extension": ".py",
   "mimetype": "text/x-python",
   "name": "python",
   "nbconvert_exporter": "python",
   "pygments_lexer": "ipython3",
   "version": "3.9.7"
  }
 },
 "nbformat": 4,
 "nbformat_minor": 5
}
