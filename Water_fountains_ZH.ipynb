{
 "cells": [
  {
   "cell_type": "markdown",
   "id": "eb8292d5-6c92-4634-8f7f-65568c13bb4a",
   "metadata": {},
   "source": [
    "# Brunnen Zürich - Water fountains in Zürich"
   ]
  },
  {
   "cell_type": "markdown",
   "id": "63512c9a-3971-434b-876c-e34adcca0478",
   "metadata": {},
   "source": [
    "Data source: https://www.stadt-zuerich.ch/geodaten/download/Brunnen?format=10008\n",
    "\n",
    "https://www.stadt-zuerich.ch/portal/de/index/ogd/anwendungen/2019/Water-fountains.html\n",
    "\n",
    "The dataset includes fountains of the water supply and other service departments of the city of Zürich, as well as private fountains."
   ]
  },
  {
   "cell_type": "markdown",
   "id": "6e7e6039-9e70-46e5-84c3-c4152d86a3c9",
   "metadata": {},
   "source": [
    "## Import libraries"
   ]
  },
  {
   "cell_type": "code",
   "execution_count": 1,
   "id": "aae81d2a-2cae-4400-9a5a-26f4f463aaaf",
   "metadata": {},
   "outputs": [],
   "source": [
    "import pandas as pd\n",
    "import numpy as np\n",
    "import matplotlib.pyplot as plt\n",
    "import seaborn as sns\n",
    "import geopandas as gpd\n",
    "pd.set_option(\"max_columns\", 50) # to be able to see all the columns"
   ]
  },
  {
   "cell_type": "markdown",
   "id": "87b3eb68-346c-416d-ab74-150ba3d79ee6",
   "metadata": {},
   "source": [
    "## Read geoJSON data and create data frame"
   ]
  },
  {
   "cell_type": "code",
   "execution_count": 2,
   "id": "6aac451a-544a-44c1-ac08-21d15bfc1594",
   "metadata": {},
   "outputs": [],
   "source": [
    "brunnen_df = gpd.read_file('https://www.ogd.stadt-zuerich.ch/wfs/geoportal/Brunnen?service=WFS&version=1.1.0&request=GetFeature&outputFormat=GeoJSON&typename=wvz_brunnen')"
   ]
  },
  {
   "cell_type": "markdown",
   "id": "ff802ed8-f7b8-48d8-b597-f81d5c301fef",
   "metadata": {},
   "source": [
    "## Explore the dataset"
   ]
  },
  {
   "cell_type": "markdown",
   "id": "77e68d9d-bb0c-4ece-8f64-c69c8ea154c8",
   "metadata": {},
   "source": [
    "### First look"
   ]
  },
  {
   "cell_type": "code",
   "execution_count": 3,
   "id": "4e233363-3f67-49f7-bc19-175af06ba423",
   "metadata": {},
   "outputs": [
    {
     "data": {
      "text/plain": [
       "(1280, 32)"
      ]
     },
     "execution_count": 3,
     "metadata": {},
     "output_type": "execute_result"
    }
   ],
   "source": [
    "brunnen_df.shape"
   ]
  },
  {
   "cell_type": "code",
   "execution_count": 4,
   "id": "3071105d-97a2-4612-84fa-e92196a40341",
   "metadata": {},
   "outputs": [
    {
     "data": {
      "text/html": [
       "<div>\n",
       "<style scoped>\n",
       "    .dataframe tbody tr th:only-of-type {\n",
       "        vertical-align: middle;\n",
       "    }\n",
       "\n",
       "    .dataframe tbody tr th {\n",
       "        vertical-align: top;\n",
       "    }\n",
       "\n",
       "    .dataframe thead th {\n",
       "        text-align: right;\n",
       "    }\n",
       "</style>\n",
       "<table border=\"1\" class=\"dataframe\">\n",
       "  <thead>\n",
       "    <tr style=\"text-align: right;\">\n",
       "      <th></th>\n",
       "      <th>id</th>\n",
       "      <th>abgestellt</th>\n",
       "      <th>architekt_bildhauer</th>\n",
       "      <th>art</th>\n",
       "      <th>art_eigentuemer</th>\n",
       "      <th>baujahr</th>\n",
       "      <th>bemerkung1</th>\n",
       "      <th>bemerkung2</th>\n",
       "      <th>brunnenart</th>\n",
       "      <th>brunnennummer</th>\n",
       "      <th>datum_abstellung</th>\n",
       "      <th>datum_aenderung</th>\n",
       "      <th>datum_wiederinbetriebnahme</th>\n",
       "      <th>druckzone</th>\n",
       "      <th>eigentuemer</th>\n",
       "      <th>foto</th>\n",
       "      <th>grund_abstellung</th>\n",
       "      <th>historisches_baujahr</th>\n",
       "      <th>hkoord</th>\n",
       "      <th>material_figur</th>\n",
       "      <th>material_saeule</th>\n",
       "      <th>material_trog</th>\n",
       "      <th>objectid</th>\n",
       "      <th>ortsbezeichnung</th>\n",
       "      <th>quartier</th>\n",
       "      <th>stadtkreis</th>\n",
       "      <th>standort</th>\n",
       "      <th>steinhauer</th>\n",
       "      <th>u_aks_nummer</th>\n",
       "      <th>vkoord</th>\n",
       "      <th>wasserart</th>\n",
       "      <th>geometry</th>\n",
       "    </tr>\n",
       "  </thead>\n",
       "  <tbody>\n",
       "    <tr>\n",
       "      <th>0</th>\n",
       "      <td>wvz_brunnen.1</td>\n",
       "      <td>nein</td>\n",
       "      <td>None</td>\n",
       "      <td>Notwasserbrunnen</td>\n",
       "      <td>öffentlich</td>\n",
       "      <td>1985.0</td>\n",
       "      <td>None</td>\n",
       "      <td>None</td>\n",
       "      <td>Notwasserbrunnen</td>\n",
       "      <td>6061</td>\n",
       "      <td>NaT</td>\n",
       "      <td>202212052235</td>\n",
       "      <td>None</td>\n",
       "      <td>Brunnennetz</td>\n",
       "      <td>WVZ</td>\n",
       "      <td>https://wvzm0gib.global.szh.loc/Brunnenbilder/...</td>\n",
       "      <td>None</td>\n",
       "      <td>1986.0</td>\n",
       "      <td>2685636.345</td>\n",
       "      <td>None</td>\n",
       "      <td>None</td>\n",
       "      <td>Bronzeguss</td>\n",
       "      <td>1.0</td>\n",
       "      <td>None</td>\n",
       "      <td>Schwamendingen</td>\n",
       "      <td>12</td>\n",
       "      <td>Stettbachweg-/Winterthurerstrasse</td>\n",
       "      <td>None</td>\n",
       "      <td>{AC762A2C-760A-489A-9F28-68B0196B799E}</td>\n",
       "      <td>1250981.102</td>\n",
       "      <td>Quellwasser</td>\n",
       "      <td>POINT (8.57317 47.40408)</td>\n",
       "    </tr>\n",
       "    <tr>\n",
       "      <th>1</th>\n",
       "      <td>wvz_brunnen.2</td>\n",
       "      <td>nein</td>\n",
       "      <td>None</td>\n",
       "      <td>Notwasserbrunnen</td>\n",
       "      <td>öffentlich</td>\n",
       "      <td>1981.0</td>\n",
       "      <td>None</td>\n",
       "      <td>None</td>\n",
       "      <td>Notwasserbrunnen</td>\n",
       "      <td>6046</td>\n",
       "      <td>NaT</td>\n",
       "      <td>202212052235</td>\n",
       "      <td>None</td>\n",
       "      <td>Brunnennetz</td>\n",
       "      <td>WVZ</td>\n",
       "      <td>https://wvzm0gib.global.szh.loc/Brunnenbilder/...</td>\n",
       "      <td>None</td>\n",
       "      <td>1983.0</td>\n",
       "      <td>2685567.159</td>\n",
       "      <td>None</td>\n",
       "      <td>None</td>\n",
       "      <td>Bronzeguss</td>\n",
       "      <td>2.0</td>\n",
       "      <td>None</td>\n",
       "      <td>Schwamendingen</td>\n",
       "      <td>12</td>\n",
       "      <td>Aubrugg-/Ueberlandstrasse</td>\n",
       "      <td>None</td>\n",
       "      <td>{0A531BDE-1B43-45CA-BEBB-D1707FB59C4A}</td>\n",
       "      <td>1251726.383</td>\n",
       "      <td>Quellwasser</td>\n",
       "      <td>POINT (8.57239 47.41079)</td>\n",
       "    </tr>\n",
       "    <tr>\n",
       "      <th>2</th>\n",
       "      <td>wvz_brunnen.3</td>\n",
       "      <td>nein</td>\n",
       "      <td>None</td>\n",
       "      <td>Notwasserbrunnen</td>\n",
       "      <td>öffentlich</td>\n",
       "      <td>1982.0</td>\n",
       "      <td>None</td>\n",
       "      <td>None</td>\n",
       "      <td>Notwasserbrunnen</td>\n",
       "      <td>6053</td>\n",
       "      <td>NaT</td>\n",
       "      <td>202212052235</td>\n",
       "      <td>None</td>\n",
       "      <td>Brunnennetz</td>\n",
       "      <td>WVZ</td>\n",
       "      <td>https://wvzm0gib.global.szh.loc/Brunnenbilder/...</td>\n",
       "      <td>None</td>\n",
       "      <td>1985.0</td>\n",
       "      <td>2686489.351</td>\n",
       "      <td>None</td>\n",
       "      <td>None</td>\n",
       "      <td>Bronzeguss</td>\n",
       "      <td>3.0</td>\n",
       "      <td>None</td>\n",
       "      <td>Schwamendingen</td>\n",
       "      <td>12</td>\n",
       "      <td>Dübendorf-/Eichackerstrasse</td>\n",
       "      <td>None</td>\n",
       "      <td>{44A258C7-A2CA-48B4-AE61-26AFD105C9B3}</td>\n",
       "      <td>1250617.263</td>\n",
       "      <td>Quellwasser</td>\n",
       "      <td>POINT (8.58440 47.40070)</td>\n",
       "    </tr>\n",
       "    <tr>\n",
       "      <th>3</th>\n",
       "      <td>wvz_brunnen.4</td>\n",
       "      <td>nein</td>\n",
       "      <td>None</td>\n",
       "      <td>Notwasserbrunnen</td>\n",
       "      <td>öffentlich</td>\n",
       "      <td>1978.0</td>\n",
       "      <td>None</td>\n",
       "      <td>None</td>\n",
       "      <td>Notwasserbrunnen</td>\n",
       "      <td>6018</td>\n",
       "      <td>NaT</td>\n",
       "      <td>202212052235</td>\n",
       "      <td>None</td>\n",
       "      <td>Brunnennetz</td>\n",
       "      <td>WVZ</td>\n",
       "      <td>https://wvzm0gib.global.szh.loc/Brunnenbilder/...</td>\n",
       "      <td>None</td>\n",
       "      <td>1978.0</td>\n",
       "      <td>2685327.613</td>\n",
       "      <td>None</td>\n",
       "      <td>None</td>\n",
       "      <td>Bronzeguss</td>\n",
       "      <td>4.0</td>\n",
       "      <td>None</td>\n",
       "      <td>Schwamendingen</td>\n",
       "      <td>12</td>\n",
       "      <td>Friedrich-/Saatlenstrasse</td>\n",
       "      <td>None</td>\n",
       "      <td>{ACCB570A-F62D-4207-904B-F317B4BCA47A}</td>\n",
       "      <td>1251157.765</td>\n",
       "      <td>Quellwasser</td>\n",
       "      <td>POINT (8.56911 47.40571)</td>\n",
       "    </tr>\n",
       "    <tr>\n",
       "      <th>4</th>\n",
       "      <td>wvz_brunnen.5</td>\n",
       "      <td>nein</td>\n",
       "      <td>None</td>\n",
       "      <td>Notwasserbrunnen</td>\n",
       "      <td>öffentlich</td>\n",
       "      <td>1978.0</td>\n",
       "      <td>None</td>\n",
       "      <td>None</td>\n",
       "      <td>Notwasserbrunnen</td>\n",
       "      <td>6055</td>\n",
       "      <td>NaT</td>\n",
       "      <td>202212052235</td>\n",
       "      <td>None</td>\n",
       "      <td>Brunnennetz</td>\n",
       "      <td>WVZ</td>\n",
       "      <td>https://wvzm0gib.global.szh.loc/Brunnenbilder/...</td>\n",
       "      <td>None</td>\n",
       "      <td>1985.0</td>\n",
       "      <td>2683697.522</td>\n",
       "      <td>None</td>\n",
       "      <td>None</td>\n",
       "      <td>Bronzeguss</td>\n",
       "      <td>5.0</td>\n",
       "      <td>None</td>\n",
       "      <td>Affoltern/Oerlikon/Seebach</td>\n",
       "      <td>11</td>\n",
       "      <td>Hirschwiesenstr./b. Hirschgartnerweg 36</td>\n",
       "      <td>None</td>\n",
       "      <td>{1ED203DC-76EA-4AB5-B9B9-4E3709A4226F}</td>\n",
       "      <td>1250547.185</td>\n",
       "      <td>Quellwasser</td>\n",
       "      <td>POINT (8.54740 47.40043)</td>\n",
       "    </tr>\n",
       "  </tbody>\n",
       "</table>\n",
       "</div>"
      ],
      "text/plain": [
       "              id abgestellt architekt_bildhauer               art  \\\n",
       "0  wvz_brunnen.1       nein                None  Notwasserbrunnen   \n",
       "1  wvz_brunnen.2       nein                None  Notwasserbrunnen   \n",
       "2  wvz_brunnen.3       nein                None  Notwasserbrunnen   \n",
       "3  wvz_brunnen.4       nein                None  Notwasserbrunnen   \n",
       "4  wvz_brunnen.5       nein                None  Notwasserbrunnen   \n",
       "\n",
       "  art_eigentuemer  baujahr bemerkung1 bemerkung2        brunnenart  \\\n",
       "0      öffentlich   1985.0       None       None  Notwasserbrunnen   \n",
       "1      öffentlich   1981.0       None       None  Notwasserbrunnen   \n",
       "2      öffentlich   1982.0       None       None  Notwasserbrunnen   \n",
       "3      öffentlich   1978.0       None       None  Notwasserbrunnen   \n",
       "4      öffentlich   1978.0       None       None  Notwasserbrunnen   \n",
       "\n",
       "  brunnennummer datum_abstellung datum_aenderung datum_wiederinbetriebnahme  \\\n",
       "0          6061              NaT    202212052235                       None   \n",
       "1          6046              NaT    202212052235                       None   \n",
       "2          6053              NaT    202212052235                       None   \n",
       "3          6018              NaT    202212052235                       None   \n",
       "4          6055              NaT    202212052235                       None   \n",
       "\n",
       "     druckzone eigentuemer                                               foto  \\\n",
       "0  Brunnennetz         WVZ  https://wvzm0gib.global.szh.loc/Brunnenbilder/...   \n",
       "1  Brunnennetz         WVZ  https://wvzm0gib.global.szh.loc/Brunnenbilder/...   \n",
       "2  Brunnennetz         WVZ  https://wvzm0gib.global.szh.loc/Brunnenbilder/...   \n",
       "3  Brunnennetz         WVZ  https://wvzm0gib.global.szh.loc/Brunnenbilder/...   \n",
       "4  Brunnennetz         WVZ  https://wvzm0gib.global.szh.loc/Brunnenbilder/...   \n",
       "\n",
       "  grund_abstellung  historisches_baujahr       hkoord material_figur  \\\n",
       "0             None                1986.0  2685636.345           None   \n",
       "1             None                1983.0  2685567.159           None   \n",
       "2             None                1985.0  2686489.351           None   \n",
       "3             None                1978.0  2685327.613           None   \n",
       "4             None                1985.0  2683697.522           None   \n",
       "\n",
       "  material_saeule material_trog  objectid ortsbezeichnung  \\\n",
       "0            None    Bronzeguss       1.0            None   \n",
       "1            None    Bronzeguss       2.0            None   \n",
       "2            None    Bronzeguss       3.0            None   \n",
       "3            None    Bronzeguss       4.0            None   \n",
       "4            None    Bronzeguss       5.0            None   \n",
       "\n",
       "                     quartier stadtkreis  \\\n",
       "0              Schwamendingen         12   \n",
       "1              Schwamendingen         12   \n",
       "2              Schwamendingen         12   \n",
       "3              Schwamendingen         12   \n",
       "4  Affoltern/Oerlikon/Seebach         11   \n",
       "\n",
       "                                  standort steinhauer  \\\n",
       "0        Stettbachweg-/Winterthurerstrasse       None   \n",
       "1                Aubrugg-/Ueberlandstrasse       None   \n",
       "2              Dübendorf-/Eichackerstrasse       None   \n",
       "3                Friedrich-/Saatlenstrasse       None   \n",
       "4  Hirschwiesenstr./b. Hirschgartnerweg 36       None   \n",
       "\n",
       "                             u_aks_nummer       vkoord    wasserart  \\\n",
       "0  {AC762A2C-760A-489A-9F28-68B0196B799E}  1250981.102  Quellwasser   \n",
       "1  {0A531BDE-1B43-45CA-BEBB-D1707FB59C4A}  1251726.383  Quellwasser   \n",
       "2  {44A258C7-A2CA-48B4-AE61-26AFD105C9B3}  1250617.263  Quellwasser   \n",
       "3  {ACCB570A-F62D-4207-904B-F317B4BCA47A}  1251157.765  Quellwasser   \n",
       "4  {1ED203DC-76EA-4AB5-B9B9-4E3709A4226F}  1250547.185  Quellwasser   \n",
       "\n",
       "                   geometry  \n",
       "0  POINT (8.57317 47.40408)  \n",
       "1  POINT (8.57239 47.41079)  \n",
       "2  POINT (8.58440 47.40070)  \n",
       "3  POINT (8.56911 47.40571)  \n",
       "4  POINT (8.54740 47.40043)  "
      ]
     },
     "execution_count": 4,
     "metadata": {},
     "output_type": "execute_result"
    }
   ],
   "source": [
    "brunnen_df.head()"
   ]
  },
  {
   "cell_type": "code",
   "execution_count": 5,
   "id": "f9adab14-b764-45ef-8df5-87e3e328d475",
   "metadata": {},
   "outputs": [
    {
     "name": "stdout",
     "output_type": "stream",
     "text": [
      "<class 'geopandas.geodataframe.GeoDataFrame'>\n",
      "RangeIndex: 1280 entries, 0 to 1279\n",
      "Data columns (total 32 columns):\n",
      " #   Column                      Non-Null Count  Dtype         \n",
      "---  ------                      --------------  -----         \n",
      " 0   id                          1280 non-null   object        \n",
      " 1   abgestellt                  1280 non-null   object        \n",
      " 2   architekt_bildhauer         432 non-null    object        \n",
      " 3   art                         1280 non-null   object        \n",
      " 4   art_eigentuemer             1278 non-null   object        \n",
      " 5   baujahr                     868 non-null    float64       \n",
      " 6   bemerkung1                  115 non-null    object        \n",
      " 7   bemerkung2                  17 non-null     object        \n",
      " 8   brunnenart                  749 non-null    object        \n",
      " 9   brunnennummer               1280 non-null   object        \n",
      " 10  datum_abstellung            13 non-null     datetime64[ns]\n",
      " 11  datum_aenderung             1280 non-null   object        \n",
      " 12  datum_wiederinbetriebnahme  0 non-null      object        \n",
      " 13  druckzone                   1278 non-null   object        \n",
      " 14  eigentuemer                 1277 non-null   object        \n",
      " 15  foto                        1280 non-null   object        \n",
      " 16  grund_abstellung            13 non-null     object        \n",
      " 17  historisches_baujahr        998 non-null    float64       \n",
      " 18  hkoord                      1280 non-null   float64       \n",
      " 19  material_figur              179 non-null    object        \n",
      " 20  material_saeule             295 non-null    object        \n",
      " 21  material_trog               1015 non-null   object        \n",
      " 22  objectid                    1280 non-null   float64       \n",
      " 23  ortsbezeichnung             771 non-null    object        \n",
      " 24  quartier                    1273 non-null   object        \n",
      " 25  stadtkreis                  1276 non-null   object        \n",
      " 26  standort                    1276 non-null   object        \n",
      " 27  steinhauer                  358 non-null    object        \n",
      " 28  u_aks_nummer                1280 non-null   object        \n",
      " 29  vkoord                      1280 non-null   float64       \n",
      " 30  wasserart                   1280 non-null   object        \n",
      " 31  geometry                    1280 non-null   geometry      \n",
      "dtypes: datetime64[ns](1), float64(5), geometry(1), object(25)\n",
      "memory usage: 320.1+ KB\n"
     ]
    }
   ],
   "source": [
    "brunnen_df.info()"
   ]
  },
  {
   "cell_type": "code",
   "execution_count": 6,
   "id": "76b650fd-fd1e-4cf1-bcf1-fd1782ff6ff2",
   "metadata": {},
   "outputs": [
    {
     "data": {
      "text/plain": [
       "<AxesSubplot:>"
      ]
     },
     "execution_count": 6,
     "metadata": {},
     "output_type": "execute_result"
    },
    {
     "data": {
      "image/png": "[encoded data removed]",
      "text/plain": [
       "<Figure size 432x288 with 1 Axes>"
      ]
     },
     "metadata": {
      "needs_background": "light"
     },
     "output_type": "display_data"
    }
   ],
   "source": [
    "brunnen_df.plot()"
   ]
  },
  {
   "cell_type": "markdown",
   "id": "16b23f32-f063-42a2-9f4d-c92f0ea90b16",
   "metadata": {},
   "source": [
    "### Columns of interest"
   ]
  },
  {
   "cell_type": "code",
   "execution_count": 7,
   "id": "6913d981-7a21-42c7-b053-ed217f13b0ed",
   "metadata": {},
   "outputs": [
    {
     "data": {
      "text/plain": [
       "Index(['id', 'abgestellt', 'architekt_bildhauer', 'art', 'art_eigentuemer',\n",
       "       'baujahr', 'bemerkung1', 'bemerkung2', 'brunnenart', 'brunnennummer',\n",
       "       'datum_abstellung', 'datum_aenderung', 'datum_wiederinbetriebnahme',\n",
       "       'druckzone', 'eigentuemer', 'foto', 'grund_abstellung',\n",
       "       'historisches_baujahr', 'hkoord', 'material_figur', 'material_saeule',\n",
       "       'material_trog', 'objectid', 'ortsbezeichnung', 'quartier',\n",
       "       'stadtkreis', 'standort', 'steinhauer', 'u_aks_nummer', 'vkoord',\n",
       "       'wasserart', 'geometry'],\n",
       "      dtype='object')"
      ]
     },
     "execution_count": 7,
     "metadata": {},
     "output_type": "execute_result"
    }
   ],
   "source": [
    "# see all columns\n",
    "brunnen_df.columns"
   ]
  },
  {
   "cell_type": "markdown",
   "id": "90b6e7d8-c276-4907-8f26-8a1d481afe34",
   "metadata": {},
   "source": [
    "#### id column"
   ]
  },
  {
   "cell_type": "code",
   "execution_count": 8,
   "id": "099773ad-9407-4165-a44a-87ca452ffcad",
   "metadata": {},
   "outputs": [
    {
     "data": {
      "text/html": [
       "<div>\n",
       "<style scoped>\n",
       "    .dataframe tbody tr th:only-of-type {\n",
       "        vertical-align: middle;\n",
       "    }\n",
       "\n",
       "    .dataframe tbody tr th {\n",
       "        vertical-align: top;\n",
       "    }\n",
       "\n",
       "    .dataframe thead th {\n",
       "        text-align: right;\n",
       "    }\n",
       "</style>\n",
       "<table border=\"1\" class=\"dataframe\">\n",
       "  <thead>\n",
       "    <tr style=\"text-align: right;\">\n",
       "      <th></th>\n",
       "      <th>id</th>\n",
       "      <th>abgestellt</th>\n",
       "      <th>architekt_bildhauer</th>\n",
       "      <th>art</th>\n",
       "      <th>art_eigentuemer</th>\n",
       "      <th>baujahr</th>\n",
       "      <th>bemerkung1</th>\n",
       "      <th>bemerkung2</th>\n",
       "      <th>brunnenart</th>\n",
       "      <th>brunnennummer</th>\n",
       "      <th>datum_abstellung</th>\n",
       "      <th>datum_aenderung</th>\n",
       "      <th>datum_wiederinbetriebnahme</th>\n",
       "      <th>druckzone</th>\n",
       "      <th>eigentuemer</th>\n",
       "      <th>foto</th>\n",
       "      <th>grund_abstellung</th>\n",
       "      <th>historisches_baujahr</th>\n",
       "      <th>hkoord</th>\n",
       "      <th>material_figur</th>\n",
       "      <th>material_saeule</th>\n",
       "      <th>material_trog</th>\n",
       "      <th>objectid</th>\n",
       "      <th>ortsbezeichnung</th>\n",
       "      <th>quartier</th>\n",
       "      <th>stadtkreis</th>\n",
       "      <th>standort</th>\n",
       "      <th>steinhauer</th>\n",
       "      <th>u_aks_nummer</th>\n",
       "      <th>vkoord</th>\n",
       "      <th>wasserart</th>\n",
       "      <th>geometry</th>\n",
       "    </tr>\n",
       "  </thead>\n",
       "  <tbody>\n",
       "  </tbody>\n",
       "</table>\n",
       "</div>"
      ],
      "text/plain": [
       "Empty GeoDataFrame\n",
       "Columns: [id, abgestellt, architekt_bildhauer, art, art_eigentuemer, baujahr, bemerkung1, bemerkung2, brunnenart, brunnennummer, datum_abstellung, datum_aenderung, datum_wiederinbetriebnahme, druckzone, eigentuemer, foto, grund_abstellung, historisches_baujahr, hkoord, material_figur, material_saeule, material_trog, objectid, ortsbezeichnung, quartier, stadtkreis, standort, steinhauer, u_aks_nummer, vkoord, wasserart, geometry]\n",
       "Index: []"
      ]
     },
     "execution_count": 8,
     "metadata": {},
     "output_type": "execute_result"
    }
   ],
   "source": [
    "# any duplicates in the id column?\n",
    "brunnen_df[brunnen_df.id.duplicated()]"
   ]
  },
  {
   "cell_type": "markdown",
   "id": "4e3439a9-4790-44ad-a79d-65007d26c6b4",
   "metadata": {},
   "source": [
    "#### Unique values in certain columns\n",
    "Let's see if they are useful or not."
   ]
  },
  {
   "cell_type": "code",
   "execution_count": 9,
   "id": "fe535f93-e79e-4b48-8360-8a87cb9ccf43",
   "metadata": {},
   "outputs": [
    {
     "data": {
      "text/plain": [
       "array(['Notwasserbrunnen', 'öffentlich', 'privat'], dtype=object)"
      ]
     },
     "execution_count": 9,
     "metadata": {},
     "output_type": "execute_result"
    }
   ],
   "source": [
    "brunnen_df.art.unique()"
   ]
  },
  {
   "cell_type": "code",
   "execution_count": 10,
   "id": "fb3ee88d-c749-4e47-b2c6-b92f12ef3579",
   "metadata": {},
   "outputs": [
    {
     "data": {
      "text/html": [
       "<div>\n",
       "<style scoped>\n",
       "    .dataframe tbody tr th:only-of-type {\n",
       "        vertical-align: middle;\n",
       "    }\n",
       "\n",
       "    .dataframe tbody tr th {\n",
       "        vertical-align: top;\n",
       "    }\n",
       "\n",
       "    .dataframe thead th {\n",
       "        text-align: right;\n",
       "    }\n",
       "</style>\n",
       "<table border=\"1\" class=\"dataframe\">\n",
       "  <thead>\n",
       "    <tr style=\"text-align: right;\">\n",
       "      <th></th>\n",
       "      <th>id</th>\n",
       "    </tr>\n",
       "    <tr>\n",
       "      <th>art</th>\n",
       "      <th></th>\n",
       "    </tr>\n",
       "  </thead>\n",
       "  <tbody>\n",
       "    <tr>\n",
       "      <th>Notwasserbrunnen</th>\n",
       "      <td>88</td>\n",
       "    </tr>\n",
       "    <tr>\n",
       "      <th>privat</th>\n",
       "      <td>233</td>\n",
       "    </tr>\n",
       "    <tr>\n",
       "      <th>öffentlich</th>\n",
       "      <td>959</td>\n",
       "    </tr>\n",
       "  </tbody>\n",
       "</table>\n",
       "</div>"
      ],
      "text/plain": [
       "                   id\n",
       "art                  \n",
       "Notwasserbrunnen   88\n",
       "privat            233\n",
       "öffentlich        959"
      ]
     },
     "execution_count": 10,
     "metadata": {},
     "output_type": "execute_result"
    }
   ],
   "source": [
    "brunnen_df[[\"art\", \"id\"]].groupby([\"art\"]).count()"
   ]
  },
  {
   "cell_type": "code",
   "execution_count": 11,
   "id": "d57cf1d6-eb03-4cb6-9d91-dd6de8a2ed06",
   "metadata": {},
   "outputs": [
    {
     "data": {
      "text/html": [
       "<div>\n",
       "<style scoped>\n",
       "    .dataframe tbody tr th:only-of-type {\n",
       "        vertical-align: middle;\n",
       "    }\n",
       "\n",
       "    .dataframe tbody tr th {\n",
       "        vertical-align: top;\n",
       "    }\n",
       "\n",
       "    .dataframe thead th {\n",
       "        text-align: right;\n",
       "    }\n",
       "</style>\n",
       "<table border=\"1\" class=\"dataframe\">\n",
       "  <thead>\n",
       "    <tr style=\"text-align: right;\">\n",
       "      <th></th>\n",
       "      <th>id</th>\n",
       "    </tr>\n",
       "    <tr>\n",
       "      <th>brunnenart</th>\n",
       "      <th></th>\n",
       "    </tr>\n",
       "  </thead>\n",
       "  <tbody>\n",
       "    <tr>\n",
       "      <th>Brunnen des Verschönerungsvereins</th>\n",
       "      <td>43</td>\n",
       "    </tr>\n",
       "    <tr>\n",
       "      <th>Brunnen in städtischer Liegenschaft</th>\n",
       "      <td>399</td>\n",
       "    </tr>\n",
       "    <tr>\n",
       "      <th>Notwasserbrunnen</th>\n",
       "      <td>87</td>\n",
       "    </tr>\n",
       "    <tr>\n",
       "      <th>privater Brunnen</th>\n",
       "      <td>220</td>\n",
       "    </tr>\n",
       "  </tbody>\n",
       "</table>\n",
       "</div>"
      ],
      "text/plain": [
       "                                      id\n",
       "brunnenart                              \n",
       "Brunnen des Verschönerungsvereins     43\n",
       "Brunnen in städtischer Liegenschaft  399\n",
       "Notwasserbrunnen                      87\n",
       "privater Brunnen                     220"
      ]
     },
     "execution_count": 11,
     "metadata": {},
     "output_type": "execute_result"
    }
   ],
   "source": [
    "brunnen_df[[\"brunnenart\", \"id\"]].groupby([\"brunnenart\"]).count()"
   ]
  },
  {
   "cell_type": "markdown",
   "id": "90ac6f59-4ba7-4628-a75a-e677bbe7428b",
   "metadata": {},
   "source": [
    "\"art\" is more useful"
   ]
  },
  {
   "cell_type": "code",
   "execution_count": 12,
   "id": "12683392-5100-4fbe-aedf-02fdf2d8239b",
   "metadata": {},
   "outputs": [
    {
     "data": {
      "text/html": [
       "<div>\n",
       "<style scoped>\n",
       "    .dataframe tbody tr th:only-of-type {\n",
       "        vertical-align: middle;\n",
       "    }\n",
       "\n",
       "    .dataframe tbody tr th {\n",
       "        vertical-align: top;\n",
       "    }\n",
       "\n",
       "    .dataframe thead th {\n",
       "        text-align: right;\n",
       "    }\n",
       "</style>\n",
       "<table border=\"1\" class=\"dataframe\">\n",
       "  <thead>\n",
       "    <tr style=\"text-align: right;\">\n",
       "      <th></th>\n",
       "      <th>id</th>\n",
       "    </tr>\n",
       "    <tr>\n",
       "      <th>material_trog</th>\n",
       "      <th></th>\n",
       "    </tr>\n",
       "  </thead>\n",
       "  <tbody>\n",
       "    <tr>\n",
       "      <th>Granit</th>\n",
       "      <td>121</td>\n",
       "    </tr>\n",
       "    <tr>\n",
       "      <th>Bronzeguss</th>\n",
       "      <td>79</td>\n",
       "    </tr>\n",
       "    <tr>\n",
       "      <th>Beton</th>\n",
       "      <td>76</td>\n",
       "    </tr>\n",
       "    <tr>\n",
       "      <th>Kunststein</th>\n",
       "      <td>41</td>\n",
       "    </tr>\n",
       "    <tr>\n",
       "      <th>Kalkstein</th>\n",
       "      <td>37</td>\n",
       "    </tr>\n",
       "    <tr>\n",
       "      <th>...</th>\n",
       "      <td>...</td>\n",
       "    </tr>\n",
       "    <tr>\n",
       "      <th>Iragnagranit, hell</th>\n",
       "      <td>1</td>\n",
       "    </tr>\n",
       "    <tr>\n",
       "      <th>Iragnagranit, hell    (Modell Schäfer)</th>\n",
       "      <td>1</td>\n",
       "    </tr>\n",
       "    <tr>\n",
       "      <th>Istrischer Kalkstein</th>\n",
       "      <td>1</td>\n",
       "    </tr>\n",
       "    <tr>\n",
       "      <th>Italienischen Marmor</th>\n",
       "      <td>1</td>\n",
       "    </tr>\n",
       "    <tr>\n",
       "      <th>schwarze und weisse Flusskiesel</th>\n",
       "      <td>1</td>\n",
       "    </tr>\n",
       "  </tbody>\n",
       "</table>\n",
       "<p>306 rows × 1 columns</p>\n",
       "</div>"
      ],
      "text/plain": [
       "                                         id\n",
       "material_trog                              \n",
       "Granit                                  121\n",
       "Bronzeguss                               79\n",
       "Beton                                    76\n",
       "Kunststein                               41\n",
       "Kalkstein                                37\n",
       "...                                     ...\n",
       "Iragnagranit, hell                        1\n",
       "Iragnagranit, hell    (Modell Schäfer)    1\n",
       "Istrischer Kalkstein                      1\n",
       "Italienischen Marmor                      1\n",
       "schwarze und weisse Flusskiesel           1\n",
       "\n",
       "[306 rows x 1 columns]"
      ]
     },
     "execution_count": 12,
     "metadata": {},
     "output_type": "execute_result"
    }
   ],
   "source": [
    "brunnen_df[[\"id\",\"material_trog\"]].groupby([\"material_trog\"]).count().sort_values(\"id\", ascending = False)"
   ]
  },
  {
   "cell_type": "markdown",
   "id": "71296efe-2a41-40ec-9444-784be74ab146",
   "metadata": {},
   "source": [
    "not useful"
   ]
  },
  {
   "cell_type": "code",
   "execution_count": 13,
   "id": "6bff21c1-c2e1-49fb-a573-204d46d6db6e",
   "metadata": {},
   "outputs": [
    {
     "data": {
      "text/html": [
       "<div>\n",
       "<style scoped>\n",
       "    .dataframe tbody tr th:only-of-type {\n",
       "        vertical-align: middle;\n",
       "    }\n",
       "\n",
       "    .dataframe tbody tr th {\n",
       "        vertical-align: top;\n",
       "    }\n",
       "\n",
       "    .dataframe thead th {\n",
       "        text-align: right;\n",
       "    }\n",
       "</style>\n",
       "<table border=\"1\" class=\"dataframe\">\n",
       "  <thead>\n",
       "    <tr style=\"text-align: right;\">\n",
       "      <th></th>\n",
       "      <th>id</th>\n",
       "    </tr>\n",
       "    <tr>\n",
       "      <th>wasserart</th>\n",
       "      <th></th>\n",
       "    </tr>\n",
       "  </thead>\n",
       "  <tbody>\n",
       "    <tr>\n",
       "      <th>Züriwasser</th>\n",
       "      <td>813</td>\n",
       "    </tr>\n",
       "    <tr>\n",
       "      <th>Quellwasser</th>\n",
       "      <td>432</td>\n",
       "    </tr>\n",
       "    <tr>\n",
       "      <th>eigene Versorgung</th>\n",
       "      <td>31</td>\n",
       "    </tr>\n",
       "    <tr>\n",
       "      <th>Grundwasser</th>\n",
       "      <td>4</td>\n",
       "    </tr>\n",
       "  </tbody>\n",
       "</table>\n",
       "</div>"
      ],
      "text/plain": [
       "                    id\n",
       "wasserart             \n",
       "Züriwasser         813\n",
       "Quellwasser        432\n",
       "eigene Versorgung   31\n",
       "Grundwasser          4"
      ]
     },
     "execution_count": 13,
     "metadata": {},
     "output_type": "execute_result"
    }
   ],
   "source": [
    "brunnen_df[[\"id\",\"wasserart\"]].groupby([\"wasserart\"]).count().sort_values(\"id\", ascending = False)"
   ]
  },
  {
   "cell_type": "markdown",
   "id": "f67df76c-09e3-4f2a-8654-51f7d7bdc160",
   "metadata": {},
   "source": [
    "could be interesting"
   ]
  },
  {
   "cell_type": "markdown",
   "id": "de6072d1-1fa7-4fb2-9165-4b40be6cc705",
   "metadata": {},
   "source": [
    "## Create new data frame from selected columns"
   ]
  },
  {
   "cell_type": "markdown",
   "id": "9774c324-afca-4485-b397-62cb66e9a706",
   "metadata": {},
   "source": [
    "### Create brunnen_final and rename columns"
   ]
  },
  {
   "cell_type": "code",
   "execution_count": 14,
   "id": "76d87c6a-4165-4683-8d0f-c8983b06c302",
   "metadata": {},
   "outputs": [],
   "source": [
    "# create final data frame\n",
    "brunnen_final = brunnen_df[[\"id\", \"art\", \"baujahr\", \"eigentuemer\", \"quartier\", \"stadtkreis\", \"standort\", \"wasserart\", \"geometry\"]]"
   ]
  },
  {
   "cell_type": "code",
   "execution_count": 15,
   "id": "60e50fe5-79ac-4ae4-8921-5610d932a934",
   "metadata": {},
   "outputs": [],
   "source": [
    "# rename columns using English names\n",
    "brunnen_final = brunnen_final.rename(columns = {\"id\" : \"ID\", \n",
    "                                             \"art\": \"type\",\n",
    "                                             \"baujahr\" : \"year_built\",\n",
    "                                             \"eigentuemer\" : \"owner\",\n",
    "                                             \"quartier\" : \"quartier\",\n",
    "                                             \"stadtkreis\" : \"district_no\",\n",
    "                                             \"standort\" : \"location\",\n",
    "                                             \"wasserart\" : \"water_type\",\n",
    "                                             \"geometry\" : \"geometry\"\n",
    "                                            })"
   ]
  },
  {
   "cell_type": "code",
   "execution_count": 16,
   "id": "3d2ea160-d875-40c6-a614-a307de59c678",
   "metadata": {},
   "outputs": [
    {
     "data": {
      "text/html": [
       "<div>\n",
       "<style scoped>\n",
       "    .dataframe tbody tr th:only-of-type {\n",
       "        vertical-align: middle;\n",
       "    }\n",
       "\n",
       "    .dataframe tbody tr th {\n",
       "        vertical-align: top;\n",
       "    }\n",
       "\n",
       "    .dataframe thead th {\n",
       "        text-align: right;\n",
       "    }\n",
       "</style>\n",
       "<table border=\"1\" class=\"dataframe\">\n",
       "  <thead>\n",
       "    <tr style=\"text-align: right;\">\n",
       "      <th></th>\n",
       "      <th>ID</th>\n",
       "      <th>type</th>\n",
       "      <th>year_built</th>\n",
       "      <th>owner</th>\n",
       "      <th>quartier</th>\n",
       "      <th>district_no</th>\n",
       "      <th>location</th>\n",
       "      <th>water_type</th>\n",
       "      <th>geometry</th>\n",
       "    </tr>\n",
       "  </thead>\n",
       "  <tbody>\n",
       "    <tr>\n",
       "      <th>0</th>\n",
       "      <td>wvz_brunnen.1</td>\n",
       "      <td>Notwasserbrunnen</td>\n",
       "      <td>1985.0</td>\n",
       "      <td>WVZ</td>\n",
       "      <td>Schwamendingen</td>\n",
       "      <td>12</td>\n",
       "      <td>Stettbachweg-/Winterthurerstrasse</td>\n",
       "      <td>Quellwasser</td>\n",
       "      <td>POINT (8.57317 47.40408)</td>\n",
       "    </tr>\n",
       "    <tr>\n",
       "      <th>1</th>\n",
       "      <td>wvz_brunnen.2</td>\n",
       "      <td>Notwasserbrunnen</td>\n",
       "      <td>1981.0</td>\n",
       "      <td>WVZ</td>\n",
       "      <td>Schwamendingen</td>\n",
       "      <td>12</td>\n",
       "      <td>Aubrugg-/Ueberlandstrasse</td>\n",
       "      <td>Quellwasser</td>\n",
       "      <td>POINT (8.57239 47.41079)</td>\n",
       "    </tr>\n",
       "    <tr>\n",
       "      <th>2</th>\n",
       "      <td>wvz_brunnen.3</td>\n",
       "      <td>Notwasserbrunnen</td>\n",
       "      <td>1982.0</td>\n",
       "      <td>WVZ</td>\n",
       "      <td>Schwamendingen</td>\n",
       "      <td>12</td>\n",
       "      <td>Dübendorf-/Eichackerstrasse</td>\n",
       "      <td>Quellwasser</td>\n",
       "      <td>POINT (8.58440 47.40070)</td>\n",
       "    </tr>\n",
       "    <tr>\n",
       "      <th>3</th>\n",
       "      <td>wvz_brunnen.4</td>\n",
       "      <td>Notwasserbrunnen</td>\n",
       "      <td>1978.0</td>\n",
       "      <td>WVZ</td>\n",
       "      <td>Schwamendingen</td>\n",
       "      <td>12</td>\n",
       "      <td>Friedrich-/Saatlenstrasse</td>\n",
       "      <td>Quellwasser</td>\n",
       "      <td>POINT (8.56911 47.40571)</td>\n",
       "    </tr>\n",
       "    <tr>\n",
       "      <th>4</th>\n",
       "      <td>wvz_brunnen.5</td>\n",
       "      <td>Notwasserbrunnen</td>\n",
       "      <td>1978.0</td>\n",
       "      <td>WVZ</td>\n",
       "      <td>Affoltern/Oerlikon/Seebach</td>\n",
       "      <td>11</td>\n",
       "      <td>Hirschwiesenstr./b. Hirschgartnerweg 36</td>\n",
       "      <td>Quellwasser</td>\n",
       "      <td>POINT (8.54740 47.40043)</td>\n",
       "    </tr>\n",
       "  </tbody>\n",
       "</table>\n",
       "</div>"
      ],
      "text/plain": [
       "              ID              type  year_built owner  \\\n",
       "0  wvz_brunnen.1  Notwasserbrunnen      1985.0   WVZ   \n",
       "1  wvz_brunnen.2  Notwasserbrunnen      1981.0   WVZ   \n",
       "2  wvz_brunnen.3  Notwasserbrunnen      1982.0   WVZ   \n",
       "3  wvz_brunnen.4  Notwasserbrunnen      1978.0   WVZ   \n",
       "4  wvz_brunnen.5  Notwasserbrunnen      1978.0   WVZ   \n",
       "\n",
       "                     quartier district_no  \\\n",
       "0              Schwamendingen          12   \n",
       "1              Schwamendingen          12   \n",
       "2              Schwamendingen          12   \n",
       "3              Schwamendingen          12   \n",
       "4  Affoltern/Oerlikon/Seebach          11   \n",
       "\n",
       "                                  location   water_type  \\\n",
       "0        Stettbachweg-/Winterthurerstrasse  Quellwasser   \n",
       "1                Aubrugg-/Ueberlandstrasse  Quellwasser   \n",
       "2              Dübendorf-/Eichackerstrasse  Quellwasser   \n",
       "3                Friedrich-/Saatlenstrasse  Quellwasser   \n",
       "4  Hirschwiesenstr./b. Hirschgartnerweg 36  Quellwasser   \n",
       "\n",
       "                   geometry  \n",
       "0  POINT (8.57317 47.40408)  \n",
       "1  POINT (8.57239 47.41079)  \n",
       "2  POINT (8.58440 47.40070)  \n",
       "3  POINT (8.56911 47.40571)  \n",
       "4  POINT (8.54740 47.40043)  "
      ]
     },
     "execution_count": 16,
     "metadata": {},
     "output_type": "execute_result"
    }
   ],
   "source": [
    "# check the new dataset\n",
    "brunnen_final.head()"
   ]
  },
  {
   "cell_type": "markdown",
   "id": "778bb470-079a-4d2c-a446-10645aba1dfa",
   "metadata": {},
   "source": [
    "### Extract latitude and longitude from geometry and add new columns"
   ]
  },
  {
   "cell_type": "code",
   "execution_count": 17,
   "id": "af9f4820-f02b-4692-a0b5-8ce7b7a155a4",
   "metadata": {},
   "outputs": [],
   "source": [
    "brunnen_final[\"longitude\"] = brunnen_final[\"geometry\"].x\n",
    "brunnen_final[\"latitude\"] = brunnen_final[\"geometry\"].y"
   ]
  },
  {
   "cell_type": "code",
   "execution_count": 18,
   "id": "18c20090-823d-4926-be2b-e79ea5b8ee8e",
   "metadata": {},
   "outputs": [
    {
     "data": {
      "text/html": [
       "<div>\n",
       "<style scoped>\n",
       "    .dataframe tbody tr th:only-of-type {\n",
       "        vertical-align: middle;\n",
       "    }\n",
       "\n",
       "    .dataframe tbody tr th {\n",
       "        vertical-align: top;\n",
       "    }\n",
       "\n",
       "    .dataframe thead th {\n",
       "        text-align: right;\n",
       "    }\n",
       "</style>\n",
       "<table border=\"1\" class=\"dataframe\">\n",
       "  <thead>\n",
       "    <tr style=\"text-align: right;\">\n",
       "      <th></th>\n",
       "      <th>ID</th>\n",
       "      <th>type</th>\n",
       "      <th>year_built</th>\n",
       "      <th>owner</th>\n",
       "      <th>quartier</th>\n",
       "      <th>district_no</th>\n",
       "      <th>location</th>\n",
       "      <th>water_type</th>\n",
       "      <th>geometry</th>\n",
       "      <th>longitude</th>\n",
       "      <th>latitude</th>\n",
       "    </tr>\n",
       "  </thead>\n",
       "  <tbody>\n",
       "    <tr>\n",
       "      <th>0</th>\n",
       "      <td>wvz_brunnen.1</td>\n",
       "      <td>Notwasserbrunnen</td>\n",
       "      <td>1985.0</td>\n",
       "      <td>WVZ</td>\n",
       "      <td>Schwamendingen</td>\n",
       "      <td>12</td>\n",
       "      <td>Stettbachweg-/Winterthurerstrasse</td>\n",
       "      <td>Quellwasser</td>\n",
       "      <td>POINT (8.57317 47.40408)</td>\n",
       "      <td>8.573166</td>\n",
       "      <td>47.404080</td>\n",
       "    </tr>\n",
       "    <tr>\n",
       "      <th>1</th>\n",
       "      <td>wvz_brunnen.2</td>\n",
       "      <td>Notwasserbrunnen</td>\n",
       "      <td>1981.0</td>\n",
       "      <td>WVZ</td>\n",
       "      <td>Schwamendingen</td>\n",
       "      <td>12</td>\n",
       "      <td>Aubrugg-/Ueberlandstrasse</td>\n",
       "      <td>Quellwasser</td>\n",
       "      <td>POINT (8.57239 47.41079)</td>\n",
       "      <td>8.572392</td>\n",
       "      <td>47.410791</td>\n",
       "    </tr>\n",
       "    <tr>\n",
       "      <th>2</th>\n",
       "      <td>wvz_brunnen.3</td>\n",
       "      <td>Notwasserbrunnen</td>\n",
       "      <td>1982.0</td>\n",
       "      <td>WVZ</td>\n",
       "      <td>Schwamendingen</td>\n",
       "      <td>12</td>\n",
       "      <td>Dübendorf-/Eichackerstrasse</td>\n",
       "      <td>Quellwasser</td>\n",
       "      <td>POINT (8.58440 47.40070)</td>\n",
       "      <td>8.584395</td>\n",
       "      <td>47.400696</td>\n",
       "    </tr>\n",
       "    <tr>\n",
       "      <th>3</th>\n",
       "      <td>wvz_brunnen.4</td>\n",
       "      <td>Notwasserbrunnen</td>\n",
       "      <td>1978.0</td>\n",
       "      <td>WVZ</td>\n",
       "      <td>Schwamendingen</td>\n",
       "      <td>12</td>\n",
       "      <td>Friedrich-/Saatlenstrasse</td>\n",
       "      <td>Quellwasser</td>\n",
       "      <td>POINT (8.56911 47.40571)</td>\n",
       "      <td>8.569110</td>\n",
       "      <td>47.405709</td>\n",
       "    </tr>\n",
       "    <tr>\n",
       "      <th>4</th>\n",
       "      <td>wvz_brunnen.5</td>\n",
       "      <td>Notwasserbrunnen</td>\n",
       "      <td>1978.0</td>\n",
       "      <td>WVZ</td>\n",
       "      <td>Affoltern/Oerlikon/Seebach</td>\n",
       "      <td>11</td>\n",
       "      <td>Hirschwiesenstr./b. Hirschgartnerweg 36</td>\n",
       "      <td>Quellwasser</td>\n",
       "      <td>POINT (8.54740 47.40043)</td>\n",
       "      <td>8.547402</td>\n",
       "      <td>47.400427</td>\n",
       "    </tr>\n",
       "  </tbody>\n",
       "</table>\n",
       "</div>"
      ],
      "text/plain": [
       "              ID              type  year_built owner  \\\n",
       "0  wvz_brunnen.1  Notwasserbrunnen      1985.0   WVZ   \n",
       "1  wvz_brunnen.2  Notwasserbrunnen      1981.0   WVZ   \n",
       "2  wvz_brunnen.3  Notwasserbrunnen      1982.0   WVZ   \n",
       "3  wvz_brunnen.4  Notwasserbrunnen      1978.0   WVZ   \n",
       "4  wvz_brunnen.5  Notwasserbrunnen      1978.0   WVZ   \n",
       "\n",
       "                     quartier district_no  \\\n",
       "0              Schwamendingen          12   \n",
       "1              Schwamendingen          12   \n",
       "2              Schwamendingen          12   \n",
       "3              Schwamendingen          12   \n",
       "4  Affoltern/Oerlikon/Seebach          11   \n",
       "\n",
       "                                  location   water_type  \\\n",
       "0        Stettbachweg-/Winterthurerstrasse  Quellwasser   \n",
       "1                Aubrugg-/Ueberlandstrasse  Quellwasser   \n",
       "2              Dübendorf-/Eichackerstrasse  Quellwasser   \n",
       "3                Friedrich-/Saatlenstrasse  Quellwasser   \n",
       "4  Hirschwiesenstr./b. Hirschgartnerweg 36  Quellwasser   \n",
       "\n",
       "                   geometry  longitude   latitude  \n",
       "0  POINT (8.57317 47.40408)   8.573166  47.404080  \n",
       "1  POINT (8.57239 47.41079)   8.572392  47.410791  \n",
       "2  POINT (8.58440 47.40070)   8.584395  47.400696  \n",
       "3  POINT (8.56911 47.40571)   8.569110  47.405709  \n",
       "4  POINT (8.54740 47.40043)   8.547402  47.400427  "
      ]
     },
     "execution_count": 18,
     "metadata": {},
     "output_type": "execute_result"
    }
   ],
   "source": [
    "brunnen_final.head()"
   ]
  },
  {
   "cell_type": "code",
   "execution_count": 19,
   "id": "40d3dd55-da1f-4951-8e93-a95cb7989891",
   "metadata": {},
   "outputs": [
    {
     "name": "stdout",
     "output_type": "stream",
     "text": [
      "<class 'geopandas.geodataframe.GeoDataFrame'>\n",
      "RangeIndex: 1280 entries, 0 to 1279\n",
      "Data columns (total 11 columns):\n",
      " #   Column       Non-Null Count  Dtype   \n",
      "---  ------       --------------  -----   \n",
      " 0   ID           1280 non-null   object  \n",
      " 1   type         1280 non-null   object  \n",
      " 2   year_built   868 non-null    float64 \n",
      " 3   owner        1277 non-null   object  \n",
      " 4   quartier     1273 non-null   object  \n",
      " 5   district_no  1276 non-null   object  \n",
      " 6   location     1276 non-null   object  \n",
      " 7   water_type   1280 non-null   object  \n",
      " 8   geometry     1280 non-null   geometry\n",
      " 9   longitude    1280 non-null   float64 \n",
      " 10  latitude     1280 non-null   float64 \n",
      "dtypes: float64(3), geometry(1), object(7)\n",
      "memory usage: 110.1+ KB\n"
     ]
    }
   ],
   "source": [
    "brunnen_final.info()"
   ]
  },
  {
   "cell_type": "markdown",
   "id": "87fb8645-d308-4187-92f5-cee8f0b50b4a",
   "metadata": {},
   "source": [
    "## Write file"
   ]
  },
  {
   "cell_type": "code",
   "execution_count": 20,
   "id": "7b4d4673-e0d0-4b5f-8d67-0e69058b1700",
   "metadata": {},
   "outputs": [],
   "source": [
    "# write to csv\n",
    "#brunnen_final.to_csv(\"Water_fountains_ZH.csv\", index = False)"
   ]
  },
  {
   "cell_type": "code",
   "execution_count": 21,
   "id": "a3fa02af-7518-4d4c-9d66-3e4aee33026e",
   "metadata": {},
   "outputs": [],
   "source": [
    "# write to geojson, use encoding = \"utf-8\" because of \"ü\"\n",
    "brunnen_final.to_file(\"Water_fountains_ZH.geojson\", driver = \"GeoJSON\", encoding = \"utf-8\")"
   ]
  },
  {
   "cell_type": "code",
   "execution_count": null,
   "id": "7b479332-a719-4b8c-abed-e584d108c306",
   "metadata": {},
   "outputs": [],
   "source": []
  }
 ],
 "metadata": {
  "kernelspec": {
   "display_name": "Python 3 (ipykernel)",
   "language": "python",
   "name": "python3"
  },
  "language_info": {
   "codemirror_mode": {
    "name": "ipython",
    "version": 3
   },
   "file_extension": ".py",
   "mimetype": "text/x-python",
   "name": "python",
   "nbconvert_exporter": "python",
   "pygments_lexer": "ipython3",
   "version": "3.9.7"
  }
 },
 "nbformat": 4,
 "nbformat_minor": 5
}
